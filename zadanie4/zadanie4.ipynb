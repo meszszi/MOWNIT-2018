{
 "cells": [
  {
   "cell_type": "code",
   "execution_count": 1,
   "metadata": {},
   "outputs": [
    {
     "name": "stdout",
     "output_type": "stream",
     "text": [
      "[1] 0.01 0.04 0.09 0.16\n",
      "[1] 0.3\n",
      "[1] 0.1 0.2 0.3 0.4\n"
     ]
    }
   ],
   "source": [
    "a = c(1, 2, 3, 4)\n",
    "b = c(0.1, 0.2, 0.3, 0.4)\n",
    "z = b*b\n",
    "print(z)\n",
    "print(sum(z))\n",
    "print(sqrt(z))"
   ]
  },
  {
   "cell_type": "code",
   "execution_count": 2,
   "metadata": {},
   "outputs": [],
   "source": [
    "library('ggplot2')"
   ]
  },
  {
   "cell_type": "code",
   "execution_count": 3,
   "metadata": {},
   "outputs": [],
   "source": [
    "times_data = read.csv('times.csv', sep = ';')"
   ]
  },
  {
   "cell_type": "code",
   "execution_count": 4,
   "metadata": {},
   "outputs": [
    {
     "data": {
      "text/html": [
       "<table>\n",
       "<thead><tr><th scope=col>operation</th><th scope=col>size</th><th scope=col>time</th></tr></thead>\n",
       "<tbody>\n",
       "\t<tr><td>v o v   </td><td> 1000   </td><td>0.000021</td></tr>\n",
       "\t<tr><td>v o v   </td><td> 1000   </td><td>0.000009</td></tr>\n",
       "\t<tr><td>v o v   </td><td> 1000   </td><td>0.000008</td></tr>\n",
       "\t<tr><td>v o v   </td><td> 1000   </td><td>0.000009</td></tr>\n",
       "\t<tr><td>v o v   </td><td> 1000   </td><td>0.000009</td></tr>\n",
       "\t<tr><td>v o v   </td><td> 1000   </td><td>0.000009</td></tr>\n",
       "\t<tr><td>v o v   </td><td> 1000   </td><td>0.000008</td></tr>\n",
       "\t<tr><td>v o v   </td><td> 1000   </td><td>0.000009</td></tr>\n",
       "\t<tr><td>v o v   </td><td> 1000   </td><td>0.000009</td></tr>\n",
       "\t<tr><td>v o v   </td><td> 1000   </td><td>0.000009</td></tr>\n",
       "\t<tr><td>v o v   </td><td>10000   </td><td>0.000083</td></tr>\n",
       "\t<tr><td>v o v   </td><td>10000   </td><td>0.000084</td></tr>\n",
       "\t<tr><td>v o v   </td><td>10000   </td><td>0.000072</td></tr>\n",
       "\t<tr><td>v o v   </td><td>10000   </td><td>0.000072</td></tr>\n",
       "\t<tr><td>v o v   </td><td>10000   </td><td>0.000072</td></tr>\n",
       "\t<tr><td>v o v   </td><td>10000   </td><td>0.000072</td></tr>\n",
       "\t<tr><td>v o v   </td><td>10000   </td><td>0.000072</td></tr>\n",
       "\t<tr><td>v o v   </td><td>10000   </td><td>0.000081</td></tr>\n",
       "\t<tr><td>v o v   </td><td>10000   </td><td>0.000063</td></tr>\n",
       "\t<tr><td>v o v   </td><td>10000   </td><td>0.000063</td></tr>\n",
       "\t<tr><td>v o v   </td><td>50000   </td><td>0.000210</td></tr>\n",
       "\t<tr><td>v o v   </td><td>50000   </td><td>0.000157</td></tr>\n",
       "\t<tr><td>v o v   </td><td>50000   </td><td>0.000126</td></tr>\n",
       "\t<tr><td>v o v   </td><td>50000   </td><td>0.000126</td></tr>\n",
       "\t<tr><td>v o v   </td><td>50000   </td><td>0.000107</td></tr>\n",
       "\t<tr><td>v o v   </td><td>50000   </td><td>0.000091</td></tr>\n",
       "\t<tr><td>v o v   </td><td>50000   </td><td>0.000090</td></tr>\n",
       "\t<tr><td>v o v   </td><td>50000   </td><td>0.000090</td></tr>\n",
       "\t<tr><td>v o v   </td><td>50000   </td><td>0.000090</td></tr>\n",
       "\t<tr><td>v o v   </td><td>50000   </td><td>0.000104</td></tr>\n",
       "\t<tr><td>⋮</td><td>⋮</td><td>⋮</td></tr>\n",
       "\t<tr><td>m * v   </td><td>14400   </td><td>0.431052</td></tr>\n",
       "\t<tr><td>m * v   </td><td>14400   </td><td>0.401832</td></tr>\n",
       "\t<tr><td>m * v   </td><td>14400   </td><td>0.393401</td></tr>\n",
       "\t<tr><td>m * v   </td><td>14400   </td><td>0.429371</td></tr>\n",
       "\t<tr><td>m * v   </td><td>14400   </td><td>0.395959</td></tr>\n",
       "\t<tr><td>m * v   </td><td>14400   </td><td>0.394180</td></tr>\n",
       "\t<tr><td>m * v   </td><td>14400   </td><td>0.391769</td></tr>\n",
       "\t<tr><td>m * v   </td><td>14400   </td><td>0.443062</td></tr>\n",
       "\t<tr><td>m * v   </td><td>14400   </td><td>0.561611</td></tr>\n",
       "\t<tr><td>m * v   </td><td>14400   </td><td>0.491491</td></tr>\n",
       "\t<tr><td>m * v   </td><td>16900   </td><td>0.553198</td></tr>\n",
       "\t<tr><td>m * v   </td><td>16900   </td><td>0.539430</td></tr>\n",
       "\t<tr><td>m * v   </td><td>16900   </td><td>0.539778</td></tr>\n",
       "\t<tr><td>m * v   </td><td>16900   </td><td>0.616068</td></tr>\n",
       "\t<tr><td>m * v   </td><td>16900   </td><td>0.549917</td></tr>\n",
       "\t<tr><td>m * v   </td><td>16900   </td><td>0.538329</td></tr>\n",
       "\t<tr><td>m * v   </td><td>16900   </td><td>0.546359</td></tr>\n",
       "\t<tr><td>m * v   </td><td>16900   </td><td>0.561252</td></tr>\n",
       "\t<tr><td>m * v   </td><td>16900   </td><td>0.584120</td></tr>\n",
       "\t<tr><td>m * v   </td><td>16900   </td><td>0.558057</td></tr>\n",
       "\t<tr><td>m * v   </td><td>19600   </td><td>0.775753</td></tr>\n",
       "\t<tr><td>m * v   </td><td>19600   </td><td>0.728957</td></tr>\n",
       "\t<tr><td>m * v   </td><td>19600   </td><td>0.738514</td></tr>\n",
       "\t<tr><td>m * v   </td><td>19600   </td><td>0.729793</td></tr>\n",
       "\t<tr><td>m * v   </td><td>19600   </td><td>0.734053</td></tr>\n",
       "\t<tr><td>m * v   </td><td>19600   </td><td>0.730647</td></tr>\n",
       "\t<tr><td>m * v   </td><td>19600   </td><td>0.729779</td></tr>\n",
       "\t<tr><td>m * v   </td><td>19600   </td><td>0.735175</td></tr>\n",
       "\t<tr><td>m * v   </td><td>19600   </td><td>0.730789</td></tr>\n",
       "\t<tr><td>m * v   </td><td>19600   </td><td>0.727940</td></tr>\n",
       "</tbody>\n",
       "</table>\n"
      ],
      "text/latex": [
       "\\begin{tabular}{r|lll}\n",
       " operation & size & time\\\\\n",
       "\\hline\n",
       "\t v o v    &  1000    & 0.000021\\\\\n",
       "\t v o v    &  1000    & 0.000009\\\\\n",
       "\t v o v    &  1000    & 0.000008\\\\\n",
       "\t v o v    &  1000    & 0.000009\\\\\n",
       "\t v o v    &  1000    & 0.000009\\\\\n",
       "\t v o v    &  1000    & 0.000009\\\\\n",
       "\t v o v    &  1000    & 0.000008\\\\\n",
       "\t v o v    &  1000    & 0.000009\\\\\n",
       "\t v o v    &  1000    & 0.000009\\\\\n",
       "\t v o v    &  1000    & 0.000009\\\\\n",
       "\t v o v    & 10000    & 0.000083\\\\\n",
       "\t v o v    & 10000    & 0.000084\\\\\n",
       "\t v o v    & 10000    & 0.000072\\\\\n",
       "\t v o v    & 10000    & 0.000072\\\\\n",
       "\t v o v    & 10000    & 0.000072\\\\\n",
       "\t v o v    & 10000    & 0.000072\\\\\n",
       "\t v o v    & 10000    & 0.000072\\\\\n",
       "\t v o v    & 10000    & 0.000081\\\\\n",
       "\t v o v    & 10000    & 0.000063\\\\\n",
       "\t v o v    & 10000    & 0.000063\\\\\n",
       "\t v o v    & 50000    & 0.000210\\\\\n",
       "\t v o v    & 50000    & 0.000157\\\\\n",
       "\t v o v    & 50000    & 0.000126\\\\\n",
       "\t v o v    & 50000    & 0.000126\\\\\n",
       "\t v o v    & 50000    & 0.000107\\\\\n",
       "\t v o v    & 50000    & 0.000091\\\\\n",
       "\t v o v    & 50000    & 0.000090\\\\\n",
       "\t v o v    & 50000    & 0.000090\\\\\n",
       "\t v o v    & 50000    & 0.000090\\\\\n",
       "\t v o v    & 50000    & 0.000104\\\\\n",
       "\t ⋮ & ⋮ & ⋮\\\\\n",
       "\t m * v    & 14400    & 0.431052\\\\\n",
       "\t m * v    & 14400    & 0.401832\\\\\n",
       "\t m * v    & 14400    & 0.393401\\\\\n",
       "\t m * v    & 14400    & 0.429371\\\\\n",
       "\t m * v    & 14400    & 0.395959\\\\\n",
       "\t m * v    & 14400    & 0.394180\\\\\n",
       "\t m * v    & 14400    & 0.391769\\\\\n",
       "\t m * v    & 14400    & 0.443062\\\\\n",
       "\t m * v    & 14400    & 0.561611\\\\\n",
       "\t m * v    & 14400    & 0.491491\\\\\n",
       "\t m * v    & 16900    & 0.553198\\\\\n",
       "\t m * v    & 16900    & 0.539430\\\\\n",
       "\t m * v    & 16900    & 0.539778\\\\\n",
       "\t m * v    & 16900    & 0.616068\\\\\n",
       "\t m * v    & 16900    & 0.549917\\\\\n",
       "\t m * v    & 16900    & 0.538329\\\\\n",
       "\t m * v    & 16900    & 0.546359\\\\\n",
       "\t m * v    & 16900    & 0.561252\\\\\n",
       "\t m * v    & 16900    & 0.584120\\\\\n",
       "\t m * v    & 16900    & 0.558057\\\\\n",
       "\t m * v    & 19600    & 0.775753\\\\\n",
       "\t m * v    & 19600    & 0.728957\\\\\n",
       "\t m * v    & 19600    & 0.738514\\\\\n",
       "\t m * v    & 19600    & 0.729793\\\\\n",
       "\t m * v    & 19600    & 0.734053\\\\\n",
       "\t m * v    & 19600    & 0.730647\\\\\n",
       "\t m * v    & 19600    & 0.729779\\\\\n",
       "\t m * v    & 19600    & 0.735175\\\\\n",
       "\t m * v    & 19600    & 0.730789\\\\\n",
       "\t m * v    & 19600    & 0.727940\\\\\n",
       "\\end{tabular}\n"
      ],
      "text/markdown": [
       "\n",
       "operation | size | time | \n",
       "|---|---|---|---|---|---|---|---|---|---|---|---|---|---|---|---|---|---|---|---|---|---|---|---|---|---|---|---|---|---|---|---|---|---|---|---|---|---|---|---|---|---|---|---|---|---|---|---|---|---|---|---|---|---|---|---|---|---|---|---|---|\n",
       "| v o v    |  1000    | 0.000021 | \n",
       "| v o v    |  1000    | 0.000009 | \n",
       "| v o v    |  1000    | 0.000008 | \n",
       "| v o v    |  1000    | 0.000009 | \n",
       "| v o v    |  1000    | 0.000009 | \n",
       "| v o v    |  1000    | 0.000009 | \n",
       "| v o v    |  1000    | 0.000008 | \n",
       "| v o v    |  1000    | 0.000009 | \n",
       "| v o v    |  1000    | 0.000009 | \n",
       "| v o v    |  1000    | 0.000009 | \n",
       "| v o v    | 10000    | 0.000083 | \n",
       "| v o v    | 10000    | 0.000084 | \n",
       "| v o v    | 10000    | 0.000072 | \n",
       "| v o v    | 10000    | 0.000072 | \n",
       "| v o v    | 10000    | 0.000072 | \n",
       "| v o v    | 10000    | 0.000072 | \n",
       "| v o v    | 10000    | 0.000072 | \n",
       "| v o v    | 10000    | 0.000081 | \n",
       "| v o v    | 10000    | 0.000063 | \n",
       "| v o v    | 10000    | 0.000063 | \n",
       "| v o v    | 50000    | 0.000210 | \n",
       "| v o v    | 50000    | 0.000157 | \n",
       "| v o v    | 50000    | 0.000126 | \n",
       "| v o v    | 50000    | 0.000126 | \n",
       "| v o v    | 50000    | 0.000107 | \n",
       "| v o v    | 50000    | 0.000091 | \n",
       "| v o v    | 50000    | 0.000090 | \n",
       "| v o v    | 50000    | 0.000090 | \n",
       "| v o v    | 50000    | 0.000090 | \n",
       "| v o v    | 50000    | 0.000104 | \n",
       "| ⋮ | ⋮ | ⋮ | \n",
       "| m * v    | 14400    | 0.431052 | \n",
       "| m * v    | 14400    | 0.401832 | \n",
       "| m * v    | 14400    | 0.393401 | \n",
       "| m * v    | 14400    | 0.429371 | \n",
       "| m * v    | 14400    | 0.395959 | \n",
       "| m * v    | 14400    | 0.394180 | \n",
       "| m * v    | 14400    | 0.391769 | \n",
       "| m * v    | 14400    | 0.443062 | \n",
       "| m * v    | 14400    | 0.561611 | \n",
       "| m * v    | 14400    | 0.491491 | \n",
       "| m * v    | 16900    | 0.553198 | \n",
       "| m * v    | 16900    | 0.539430 | \n",
       "| m * v    | 16900    | 0.539778 | \n",
       "| m * v    | 16900    | 0.616068 | \n",
       "| m * v    | 16900    | 0.549917 | \n",
       "| m * v    | 16900    | 0.538329 | \n",
       "| m * v    | 16900    | 0.546359 | \n",
       "| m * v    | 16900    | 0.561252 | \n",
       "| m * v    | 16900    | 0.584120 | \n",
       "| m * v    | 16900    | 0.558057 | \n",
       "| m * v    | 19600    | 0.775753 | \n",
       "| m * v    | 19600    | 0.728957 | \n",
       "| m * v    | 19600    | 0.738514 | \n",
       "| m * v    | 19600    | 0.729793 | \n",
       "| m * v    | 19600    | 0.734053 | \n",
       "| m * v    | 19600    | 0.730647 | \n",
       "| m * v    | 19600    | 0.729779 | \n",
       "| m * v    | 19600    | 0.735175 | \n",
       "| m * v    | 19600    | 0.730789 | \n",
       "| m * v    | 19600    | 0.727940 | \n",
       "\n",
       "\n"
      ],
      "text/plain": [
       "    operation size  time    \n",
       "1   v o v      1000 0.000021\n",
       "2   v o v      1000 0.000009\n",
       "3   v o v      1000 0.000008\n",
       "4   v o v      1000 0.000009\n",
       "5   v o v      1000 0.000009\n",
       "6   v o v      1000 0.000009\n",
       "7   v o v      1000 0.000008\n",
       "8   v o v      1000 0.000009\n",
       "9   v o v      1000 0.000009\n",
       "10  v o v      1000 0.000009\n",
       "11  v o v     10000 0.000083\n",
       "12  v o v     10000 0.000084\n",
       "13  v o v     10000 0.000072\n",
       "14  v o v     10000 0.000072\n",
       "15  v o v     10000 0.000072\n",
       "16  v o v     10000 0.000072\n",
       "17  v o v     10000 0.000072\n",
       "18  v o v     10000 0.000081\n",
       "19  v o v     10000 0.000063\n",
       "20  v o v     10000 0.000063\n",
       "21  v o v     50000 0.000210\n",
       "22  v o v     50000 0.000157\n",
       "23  v o v     50000 0.000126\n",
       "24  v o v     50000 0.000126\n",
       "25  v o v     50000 0.000107\n",
       "26  v o v     50000 0.000091\n",
       "27  v o v     50000 0.000090\n",
       "28  v o v     50000 0.000090\n",
       "29  v o v     50000 0.000090\n",
       "30  v o v     50000 0.000104\n",
       "⋮   ⋮         ⋮     ⋮       \n",
       "231 m * v     14400 0.431052\n",
       "232 m * v     14400 0.401832\n",
       "233 m * v     14400 0.393401\n",
       "234 m * v     14400 0.429371\n",
       "235 m * v     14400 0.395959\n",
       "236 m * v     14400 0.394180\n",
       "237 m * v     14400 0.391769\n",
       "238 m * v     14400 0.443062\n",
       "239 m * v     14400 0.561611\n",
       "240 m * v     14400 0.491491\n",
       "241 m * v     16900 0.553198\n",
       "242 m * v     16900 0.539430\n",
       "243 m * v     16900 0.539778\n",
       "244 m * v     16900 0.616068\n",
       "245 m * v     16900 0.549917\n",
       "246 m * v     16900 0.538329\n",
       "247 m * v     16900 0.546359\n",
       "248 m * v     16900 0.561252\n",
       "249 m * v     16900 0.584120\n",
       "250 m * v     16900 0.558057\n",
       "251 m * v     19600 0.775753\n",
       "252 m * v     19600 0.728957\n",
       "253 m * v     19600 0.738514\n",
       "254 m * v     19600 0.729793\n",
       "255 m * v     19600 0.734053\n",
       "256 m * v     19600 0.730647\n",
       "257 m * v     19600 0.729779\n",
       "258 m * v     19600 0.735175\n",
       "259 m * v     19600 0.730789\n",
       "260 m * v     19600 0.727940"
      ]
     },
     "metadata": {},
     "output_type": "display_data"
    }
   ],
   "source": [
    "times_data"
   ]
  },
  {
   "cell_type": "code",
   "execution_count": 5,
   "metadata": {},
   "outputs": [],
   "source": [
    "avg_times = aggregate(time ~ operation:size, data = times_data, FUN = mean)"
   ]
  },
  {
   "cell_type": "code",
   "execution_count": 6,
   "metadata": {},
   "outputs": [
    {
     "data": {
      "text/html": [
       "<table>\n",
       "<thead><tr><th scope=col>operation</th><th scope=col>size</th><th scope=col>time</th></tr></thead>\n",
       "<tbody>\n",
       "\t<tr><td>m * v    </td><td>     100 </td><td>0.0000185</td></tr>\n",
       "\t<tr><td>m * v    </td><td>     400 </td><td>0.0002894</td></tr>\n",
       "\t<tr><td>m * v    </td><td>     900 </td><td>0.0015258</td></tr>\n",
       "\t<tr><td>v o v    </td><td>    1000 </td><td>0.0000100</td></tr>\n",
       "\t<tr><td>m * v    </td><td>    1600 </td><td>0.0049785</td></tr>\n",
       "\t<tr><td>m * v    </td><td>    2500 </td><td>0.0118327</td></tr>\n",
       "\t<tr><td>m * v    </td><td>    3600 </td><td>0.0244872</td></tr>\n",
       "\t<tr><td>m * v    </td><td>    4900 </td><td>0.0462170</td></tr>\n",
       "\t<tr><td>m * v    </td><td>    6400 </td><td>0.0875062</td></tr>\n",
       "\t<tr><td>m * v    </td><td>    8100 </td><td>0.1405934</td></tr>\n",
       "\t<tr><td>m * v    </td><td>   10000 </td><td>0.2162086</td></tr>\n",
       "\t<tr><td>v o v    </td><td>   10000 </td><td>0.0000734</td></tr>\n",
       "\t<tr><td>m * v    </td><td>   12100 </td><td>0.3263203</td></tr>\n",
       "\t<tr><td>m * v    </td><td>   14400 </td><td>0.4333728</td></tr>\n",
       "\t<tr><td>m * v    </td><td>   16900 </td><td>0.5586508</td></tr>\n",
       "\t<tr><td>m * v    </td><td>   19600 </td><td>0.7361400</td></tr>\n",
       "\t<tr><td>v o v    </td><td>   50000 </td><td>0.0001191</td></tr>\n",
       "\t<tr><td>v o v    </td><td>  100000 </td><td>0.0001888</td></tr>\n",
       "\t<tr><td>v o v    </td><td>  500000 </td><td>0.0009871</td></tr>\n",
       "\t<tr><td>v o v    </td><td> 1000000 </td><td>0.0019545</td></tr>\n",
       "\t<tr><td>v o v    </td><td> 5000000 </td><td>0.0099136</td></tr>\n",
       "\t<tr><td>v o v    </td><td>10000000 </td><td>0.0196188</td></tr>\n",
       "\t<tr><td>v o v    </td><td>20000000 </td><td>0.0391244</td></tr>\n",
       "\t<tr><td>v o v    </td><td>30000000 </td><td>0.0584329</td></tr>\n",
       "\t<tr><td>v o v    </td><td>40000000 </td><td>0.0787612</td></tr>\n",
       "\t<tr><td>v o v    </td><td>50000000 </td><td>0.0990867</td></tr>\n",
       "</tbody>\n",
       "</table>\n"
      ],
      "text/latex": [
       "\\begin{tabular}{r|lll}\n",
       " operation & size & time\\\\\n",
       "\\hline\n",
       "\t m * v     &      100  & 0.0000185\\\\\n",
       "\t m * v     &      400  & 0.0002894\\\\\n",
       "\t m * v     &      900  & 0.0015258\\\\\n",
       "\t v o v     &     1000  & 0.0000100\\\\\n",
       "\t m * v     &     1600  & 0.0049785\\\\\n",
       "\t m * v     &     2500  & 0.0118327\\\\\n",
       "\t m * v     &     3600  & 0.0244872\\\\\n",
       "\t m * v     &     4900  & 0.0462170\\\\\n",
       "\t m * v     &     6400  & 0.0875062\\\\\n",
       "\t m * v     &     8100  & 0.1405934\\\\\n",
       "\t m * v     &    10000  & 0.2162086\\\\\n",
       "\t v o v     &    10000  & 0.0000734\\\\\n",
       "\t m * v     &    12100  & 0.3263203\\\\\n",
       "\t m * v     &    14400  & 0.4333728\\\\\n",
       "\t m * v     &    16900  & 0.5586508\\\\\n",
       "\t m * v     &    19600  & 0.7361400\\\\\n",
       "\t v o v     &    50000  & 0.0001191\\\\\n",
       "\t v o v     &   100000  & 0.0001888\\\\\n",
       "\t v o v     &   500000  & 0.0009871\\\\\n",
       "\t v o v     &  1000000  & 0.0019545\\\\\n",
       "\t v o v     &  5000000  & 0.0099136\\\\\n",
       "\t v o v     & 10000000  & 0.0196188\\\\\n",
       "\t v o v     & 20000000  & 0.0391244\\\\\n",
       "\t v o v     & 30000000  & 0.0584329\\\\\n",
       "\t v o v     & 40000000  & 0.0787612\\\\\n",
       "\t v o v     & 50000000  & 0.0990867\\\\\n",
       "\\end{tabular}\n"
      ],
      "text/markdown": [
       "\n",
       "operation | size | time | \n",
       "|---|---|---|---|---|---|---|---|---|---|---|---|---|---|---|---|---|---|---|---|---|---|---|---|---|---|\n",
       "| m * v     |      100  | 0.0000185 | \n",
       "| m * v     |      400  | 0.0002894 | \n",
       "| m * v     |      900  | 0.0015258 | \n",
       "| v o v     |     1000  | 0.0000100 | \n",
       "| m * v     |     1600  | 0.0049785 | \n",
       "| m * v     |     2500  | 0.0118327 | \n",
       "| m * v     |     3600  | 0.0244872 | \n",
       "| m * v     |     4900  | 0.0462170 | \n",
       "| m * v     |     6400  | 0.0875062 | \n",
       "| m * v     |     8100  | 0.1405934 | \n",
       "| m * v     |    10000  | 0.2162086 | \n",
       "| v o v     |    10000  | 0.0000734 | \n",
       "| m * v     |    12100  | 0.3263203 | \n",
       "| m * v     |    14400  | 0.4333728 | \n",
       "| m * v     |    16900  | 0.5586508 | \n",
       "| m * v     |    19600  | 0.7361400 | \n",
       "| v o v     |    50000  | 0.0001191 | \n",
       "| v o v     |   100000  | 0.0001888 | \n",
       "| v o v     |   500000  | 0.0009871 | \n",
       "| v o v     |  1000000  | 0.0019545 | \n",
       "| v o v     |  5000000  | 0.0099136 | \n",
       "| v o v     | 10000000  | 0.0196188 | \n",
       "| v o v     | 20000000  | 0.0391244 | \n",
       "| v o v     | 30000000  | 0.0584329 | \n",
       "| v o v     | 40000000  | 0.0787612 | \n",
       "| v o v     | 50000000  | 0.0990867 | \n",
       "\n",
       "\n"
      ],
      "text/plain": [
       "   operation size     time     \n",
       "1  m * v          100 0.0000185\n",
       "2  m * v          400 0.0002894\n",
       "3  m * v          900 0.0015258\n",
       "4  v o v         1000 0.0000100\n",
       "5  m * v         1600 0.0049785\n",
       "6  m * v         2500 0.0118327\n",
       "7  m * v         3600 0.0244872\n",
       "8  m * v         4900 0.0462170\n",
       "9  m * v         6400 0.0875062\n",
       "10 m * v         8100 0.1405934\n",
       "11 m * v        10000 0.2162086\n",
       "12 v o v        10000 0.0000734\n",
       "13 m * v        12100 0.3263203\n",
       "14 m * v        14400 0.4333728\n",
       "15 m * v        16900 0.5586508\n",
       "16 m * v        19600 0.7361400\n",
       "17 v o v        50000 0.0001191\n",
       "18 v o v       100000 0.0001888\n",
       "19 v o v       500000 0.0009871\n",
       "20 v o v      1000000 0.0019545\n",
       "21 v o v      5000000 0.0099136\n",
       "22 v o v     10000000 0.0196188\n",
       "23 v o v     20000000 0.0391244\n",
       "24 v o v     30000000 0.0584329\n",
       "25 v o v     40000000 0.0787612\n",
       "26 v o v     50000000 0.0990867"
      ]
     },
     "metadata": {},
     "output_type": "display_data"
    }
   ],
   "source": [
    "avg_times"
   ]
  },
  {
   "cell_type": "code",
   "execution_count": 7,
   "metadata": {},
   "outputs": [],
   "source": [
    "avg_times$time_stddev = aggregate(time ~ operation:size, data = times_data, FUN = sd)$time"
   ]
  },
  {
   "cell_type": "code",
   "execution_count": 8,
   "metadata": {},
   "outputs": [
    {
     "data": {
      "text/html": [
       "<table>\n",
       "<thead><tr><th scope=col>operation</th><th scope=col>size</th><th scope=col>time</th><th scope=col>time_stddev</th></tr></thead>\n",
       "<tbody>\n",
       "\t<tr><td>m * v       </td><td>     100    </td><td>0.0000185   </td><td>9.718253e-07</td></tr>\n",
       "\t<tr><td>m * v       </td><td>     400    </td><td>0.0002894   </td><td>2.913570e-06</td></tr>\n",
       "\t<tr><td>m * v       </td><td>     900    </td><td>0.0015258   </td><td>3.255355e-05</td></tr>\n",
       "\t<tr><td>v o v       </td><td>    1000    </td><td>0.0000100   </td><td>3.887301e-06</td></tr>\n",
       "\t<tr><td>m * v       </td><td>    1600    </td><td>0.0049785   </td><td>3.824800e-04</td></tr>\n",
       "\t<tr><td>m * v       </td><td>    2500    </td><td>0.0118327   </td><td>1.511049e-04</td></tr>\n",
       "\t<tr><td>m * v       </td><td>    3600    </td><td>0.0244872   </td><td>8.520537e-05</td></tr>\n",
       "\t<tr><td>m * v       </td><td>    4900    </td><td>0.0462170   </td><td>1.830805e-03</td></tr>\n",
       "\t<tr><td>m * v       </td><td>    6400    </td><td>0.0875062   </td><td>1.315554e-02</td></tr>\n",
       "\t<tr><td>m * v       </td><td>    8100    </td><td>0.1405934   </td><td>1.697779e-02</td></tr>\n",
       "\t<tr><td>m * v       </td><td>   10000    </td><td>0.2162086   </td><td>2.556562e-02</td></tr>\n",
       "\t<tr><td>v o v       </td><td>   10000    </td><td>0.0000734   </td><td>7.366591e-06</td></tr>\n",
       "\t<tr><td>m * v       </td><td>   12100    </td><td>0.3263203   </td><td>5.042129e-02</td></tr>\n",
       "\t<tr><td>m * v       </td><td>   14400    </td><td>0.4333728   </td><td>5.497207e-02</td></tr>\n",
       "\t<tr><td>m * v       </td><td>   16900    </td><td>0.5586508   </td><td>2.437720e-02</td></tr>\n",
       "\t<tr><td>m * v       </td><td>   19600    </td><td>0.7361400   </td><td>1.429258e-02</td></tr>\n",
       "\t<tr><td>v o v       </td><td>   50000    </td><td>0.0001191   </td><td>3.872826e-05</td></tr>\n",
       "\t<tr><td>v o v       </td><td>  100000    </td><td>0.0001888   </td><td>1.322288e-05</td></tr>\n",
       "\t<tr><td>v o v       </td><td>  500000    </td><td>0.0009871   </td><td>3.002388e-05</td></tr>\n",
       "\t<tr><td>v o v       </td><td> 1000000    </td><td>0.0019545   </td><td>3.943842e-05</td></tr>\n",
       "\t<tr><td>v o v       </td><td> 5000000    </td><td>0.0099136   </td><td>1.627938e-04</td></tr>\n",
       "\t<tr><td>v o v       </td><td>10000000    </td><td>0.0196188   </td><td>1.774535e-04</td></tr>\n",
       "\t<tr><td>v o v       </td><td>20000000    </td><td>0.0391244   </td><td>1.801550e-04</td></tr>\n",
       "\t<tr><td>v o v       </td><td>30000000    </td><td>0.0584329   </td><td>9.402162e-04</td></tr>\n",
       "\t<tr><td>v o v       </td><td>40000000    </td><td>0.0787612   </td><td>6.351351e-04</td></tr>\n",
       "\t<tr><td>v o v       </td><td>50000000    </td><td>0.0990867   </td><td>1.857911e-03</td></tr>\n",
       "</tbody>\n",
       "</table>\n"
      ],
      "text/latex": [
       "\\begin{tabular}{r|llll}\n",
       " operation & size & time & time\\_stddev\\\\\n",
       "\\hline\n",
       "\t m * v        &      100     & 0.0000185    & 9.718253e-07\\\\\n",
       "\t m * v        &      400     & 0.0002894    & 2.913570e-06\\\\\n",
       "\t m * v        &      900     & 0.0015258    & 3.255355e-05\\\\\n",
       "\t v o v        &     1000     & 0.0000100    & 3.887301e-06\\\\\n",
       "\t m * v        &     1600     & 0.0049785    & 3.824800e-04\\\\\n",
       "\t m * v        &     2500     & 0.0118327    & 1.511049e-04\\\\\n",
       "\t m * v        &     3600     & 0.0244872    & 8.520537e-05\\\\\n",
       "\t m * v        &     4900     & 0.0462170    & 1.830805e-03\\\\\n",
       "\t m * v        &     6400     & 0.0875062    & 1.315554e-02\\\\\n",
       "\t m * v        &     8100     & 0.1405934    & 1.697779e-02\\\\\n",
       "\t m * v        &    10000     & 0.2162086    & 2.556562e-02\\\\\n",
       "\t v o v        &    10000     & 0.0000734    & 7.366591e-06\\\\\n",
       "\t m * v        &    12100     & 0.3263203    & 5.042129e-02\\\\\n",
       "\t m * v        &    14400     & 0.4333728    & 5.497207e-02\\\\\n",
       "\t m * v        &    16900     & 0.5586508    & 2.437720e-02\\\\\n",
       "\t m * v        &    19600     & 0.7361400    & 1.429258e-02\\\\\n",
       "\t v o v        &    50000     & 0.0001191    & 3.872826e-05\\\\\n",
       "\t v o v        &   100000     & 0.0001888    & 1.322288e-05\\\\\n",
       "\t v o v        &   500000     & 0.0009871    & 3.002388e-05\\\\\n",
       "\t v o v        &  1000000     & 0.0019545    & 3.943842e-05\\\\\n",
       "\t v o v        &  5000000     & 0.0099136    & 1.627938e-04\\\\\n",
       "\t v o v        & 10000000     & 0.0196188    & 1.774535e-04\\\\\n",
       "\t v o v        & 20000000     & 0.0391244    & 1.801550e-04\\\\\n",
       "\t v o v        & 30000000     & 0.0584329    & 9.402162e-04\\\\\n",
       "\t v o v        & 40000000     & 0.0787612    & 6.351351e-04\\\\\n",
       "\t v o v        & 50000000     & 0.0990867    & 1.857911e-03\\\\\n",
       "\\end{tabular}\n"
      ],
      "text/markdown": [
       "\n",
       "operation | size | time | time_stddev | \n",
       "|---|---|---|---|---|---|---|---|---|---|---|---|---|---|---|---|---|---|---|---|---|---|---|---|---|---|\n",
       "| m * v        |      100     | 0.0000185    | 9.718253e-07 | \n",
       "| m * v        |      400     | 0.0002894    | 2.913570e-06 | \n",
       "| m * v        |      900     | 0.0015258    | 3.255355e-05 | \n",
       "| v o v        |     1000     | 0.0000100    | 3.887301e-06 | \n",
       "| m * v        |     1600     | 0.0049785    | 3.824800e-04 | \n",
       "| m * v        |     2500     | 0.0118327    | 1.511049e-04 | \n",
       "| m * v        |     3600     | 0.0244872    | 8.520537e-05 | \n",
       "| m * v        |     4900     | 0.0462170    | 1.830805e-03 | \n",
       "| m * v        |     6400     | 0.0875062    | 1.315554e-02 | \n",
       "| m * v        |     8100     | 0.1405934    | 1.697779e-02 | \n",
       "| m * v        |    10000     | 0.2162086    | 2.556562e-02 | \n",
       "| v o v        |    10000     | 0.0000734    | 7.366591e-06 | \n",
       "| m * v        |    12100     | 0.3263203    | 5.042129e-02 | \n",
       "| m * v        |    14400     | 0.4333728    | 5.497207e-02 | \n",
       "| m * v        |    16900     | 0.5586508    | 2.437720e-02 | \n",
       "| m * v        |    19600     | 0.7361400    | 1.429258e-02 | \n",
       "| v o v        |    50000     | 0.0001191    | 3.872826e-05 | \n",
       "| v o v        |   100000     | 0.0001888    | 1.322288e-05 | \n",
       "| v o v        |   500000     | 0.0009871    | 3.002388e-05 | \n",
       "| v o v        |  1000000     | 0.0019545    | 3.943842e-05 | \n",
       "| v o v        |  5000000     | 0.0099136    | 1.627938e-04 | \n",
       "| v o v        | 10000000     | 0.0196188    | 1.774535e-04 | \n",
       "| v o v        | 20000000     | 0.0391244    | 1.801550e-04 | \n",
       "| v o v        | 30000000     | 0.0584329    | 9.402162e-04 | \n",
       "| v o v        | 40000000     | 0.0787612    | 6.351351e-04 | \n",
       "| v o v        | 50000000     | 0.0990867    | 1.857911e-03 | \n",
       "\n",
       "\n"
      ],
      "text/plain": [
       "   operation size     time      time_stddev \n",
       "1  m * v          100 0.0000185 9.718253e-07\n",
       "2  m * v          400 0.0002894 2.913570e-06\n",
       "3  m * v          900 0.0015258 3.255355e-05\n",
       "4  v o v         1000 0.0000100 3.887301e-06\n",
       "5  m * v         1600 0.0049785 3.824800e-04\n",
       "6  m * v         2500 0.0118327 1.511049e-04\n",
       "7  m * v         3600 0.0244872 8.520537e-05\n",
       "8  m * v         4900 0.0462170 1.830805e-03\n",
       "9  m * v         6400 0.0875062 1.315554e-02\n",
       "10 m * v         8100 0.1405934 1.697779e-02\n",
       "11 m * v        10000 0.2162086 2.556562e-02\n",
       "12 v o v        10000 0.0000734 7.366591e-06\n",
       "13 m * v        12100 0.3263203 5.042129e-02\n",
       "14 m * v        14400 0.4333728 5.497207e-02\n",
       "15 m * v        16900 0.5586508 2.437720e-02\n",
       "16 m * v        19600 0.7361400 1.429258e-02\n",
       "17 v o v        50000 0.0001191 3.872826e-05\n",
       "18 v o v       100000 0.0001888 1.322288e-05\n",
       "19 v o v       500000 0.0009871 3.002388e-05\n",
       "20 v o v      1000000 0.0019545 3.943842e-05\n",
       "21 v o v      5000000 0.0099136 1.627938e-04\n",
       "22 v o v     10000000 0.0196188 1.774535e-04\n",
       "23 v o v     20000000 0.0391244 1.801550e-04\n",
       "24 v o v     30000000 0.0584329 9.402162e-04\n",
       "25 v o v     40000000 0.0787612 6.351351e-04\n",
       "26 v o v     50000000 0.0990867 1.857911e-03"
      ]
     },
     "metadata": {},
     "output_type": "display_data"
    }
   ],
   "source": [
    "avg_times"
   ]
  },
  {
   "cell_type": "code",
   "execution_count": 16,
   "metadata": {},
   "outputs": [
    {
     "ename": "ERROR",
     "evalue": "Error in `[.data.frame`(avg_times, avg_times$operation == \"m * v\", avg_times$size <= : undefined columns selected\n",
     "output_type": "error",
     "traceback": [
      "Error in `[.data.frame`(avg_times, avg_times$operation == \"m * v\", avg_times$size <= : undefined columns selected\nTraceback:\n",
      "1. avg_times[avg_times$operation == \"m * v\", avg_times$size <= 10000, \n .     ]",
      "2. `[.data.frame`(avg_times, avg_times$operation == \"m * v\", avg_times$size <= \n .     10000, )",
      "3. stop(\"undefined columns selected\")"
     ]
    }
   ],
   "source": [
    "vector_times = avg_times[avg_times$operation == \"v o v\",]\n",
    "matrix_times = avg_times[avg_times$operation == \"m * v\",]\n",
    "matrix_times = matrix_times[matrix_times$size <= 10000,]"
   ]
  },
  {
   "cell_type": "code",
   "execution_count": 15,
   "metadata": {},
   "outputs": [
    {
     "data": {
      "text/html": [
       "<table>\n",
       "<thead><tr><th></th><th scope=col>operation</th><th scope=col>size</th><th scope=col>time</th><th scope=col>time_stddev</th></tr></thead>\n",
       "<tbody>\n",
       "\t<tr><th scope=row>1</th><td>m * v       </td><td>  100       </td><td>0.0000185   </td><td>9.718253e-07</td></tr>\n",
       "\t<tr><th scope=row>2</th><td>m * v       </td><td>  400       </td><td>0.0002894   </td><td>2.913570e-06</td></tr>\n",
       "\t<tr><th scope=row>3</th><td>m * v       </td><td>  900       </td><td>0.0015258   </td><td>3.255355e-05</td></tr>\n",
       "\t<tr><th scope=row>5</th><td>m * v       </td><td> 1600       </td><td>0.0049785   </td><td>3.824800e-04</td></tr>\n",
       "\t<tr><th scope=row>6</th><td>m * v       </td><td> 2500       </td><td>0.0118327   </td><td>1.511049e-04</td></tr>\n",
       "\t<tr><th scope=row>7</th><td>m * v       </td><td> 3600       </td><td>0.0244872   </td><td>8.520537e-05</td></tr>\n",
       "\t<tr><th scope=row>8</th><td>m * v       </td><td> 4900       </td><td>0.0462170   </td><td>1.830805e-03</td></tr>\n",
       "\t<tr><th scope=row>9</th><td>m * v       </td><td> 6400       </td><td>0.0875062   </td><td>1.315554e-02</td></tr>\n",
       "\t<tr><th scope=row>10</th><td>m * v       </td><td> 8100       </td><td>0.1405934   </td><td>1.697779e-02</td></tr>\n",
       "\t<tr><th scope=row>11</th><td>m * v       </td><td>10000       </td><td>0.2162086   </td><td>2.556562e-02</td></tr>\n",
       "\t<tr><th scope=row>13</th><td>m * v       </td><td>12100       </td><td>0.3263203   </td><td>5.042129e-02</td></tr>\n",
       "\t<tr><th scope=row>14</th><td>m * v       </td><td>14400       </td><td>0.4333728   </td><td>5.497207e-02</td></tr>\n",
       "</tbody>\n",
       "</table>\n"
      ],
      "text/latex": [
       "\\begin{tabular}{r|llll}\n",
       "  & operation & size & time & time\\_stddev\\\\\n",
       "\\hline\n",
       "\t1 & m * v        &   100        & 0.0000185    & 9.718253e-07\\\\\n",
       "\t2 & m * v        &   400        & 0.0002894    & 2.913570e-06\\\\\n",
       "\t3 & m * v        &   900        & 0.0015258    & 3.255355e-05\\\\\n",
       "\t5 & m * v        &  1600        & 0.0049785    & 3.824800e-04\\\\\n",
       "\t6 & m * v        &  2500        & 0.0118327    & 1.511049e-04\\\\\n",
       "\t7 & m * v        &  3600        & 0.0244872    & 8.520537e-05\\\\\n",
       "\t8 & m * v        &  4900        & 0.0462170    & 1.830805e-03\\\\\n",
       "\t9 & m * v        &  6400        & 0.0875062    & 1.315554e-02\\\\\n",
       "\t10 & m * v        &  8100        & 0.1405934    & 1.697779e-02\\\\\n",
       "\t11 & m * v        & 10000        & 0.2162086    & 2.556562e-02\\\\\n",
       "\t13 & m * v        & 12100        & 0.3263203    & 5.042129e-02\\\\\n",
       "\t14 & m * v        & 14400        & 0.4333728    & 5.497207e-02\\\\\n",
       "\\end{tabular}\n"
      ],
      "text/markdown": [
       "\n",
       "| <!--/--> | operation | size | time | time_stddev | \n",
       "|---|---|---|---|---|---|---|---|---|---|---|---|\n",
       "| 1 | m * v        |   100        | 0.0000185    | 9.718253e-07 | \n",
       "| 2 | m * v        |   400        | 0.0002894    | 2.913570e-06 | \n",
       "| 3 | m * v        |   900        | 0.0015258    | 3.255355e-05 | \n",
       "| 5 | m * v        |  1600        | 0.0049785    | 3.824800e-04 | \n",
       "| 6 | m * v        |  2500        | 0.0118327    | 1.511049e-04 | \n",
       "| 7 | m * v        |  3600        | 0.0244872    | 8.520537e-05 | \n",
       "| 8 | m * v        |  4900        | 0.0462170    | 1.830805e-03 | \n",
       "| 9 | m * v        |  6400        | 0.0875062    | 1.315554e-02 | \n",
       "| 10 | m * v        |  8100        | 0.1405934    | 1.697779e-02 | \n",
       "| 11 | m * v        | 10000        | 0.2162086    | 2.556562e-02 | \n",
       "| 13 | m * v        | 12100        | 0.3263203    | 5.042129e-02 | \n",
       "| 14 | m * v        | 14400        | 0.4333728    | 5.497207e-02 | \n",
       "\n",
       "\n"
      ],
      "text/plain": [
       "   operation size  time      time_stddev \n",
       "1  m * v       100 0.0000185 9.718253e-07\n",
       "2  m * v       400 0.0002894 2.913570e-06\n",
       "3  m * v       900 0.0015258 3.255355e-05\n",
       "5  m * v      1600 0.0049785 3.824800e-04\n",
       "6  m * v      2500 0.0118327 1.511049e-04\n",
       "7  m * v      3600 0.0244872 8.520537e-05\n",
       "8  m * v      4900 0.0462170 1.830805e-03\n",
       "9  m * v      6400 0.0875062 1.315554e-02\n",
       "10 m * v      8100 0.1405934 1.697779e-02\n",
       "11 m * v     10000 0.2162086 2.556562e-02\n",
       "13 m * v     12100 0.3263203 5.042129e-02\n",
       "14 m * v     14400 0.4333728 5.497207e-02"
      ]
     },
     "metadata": {},
     "output_type": "display_data"
    }
   ],
   "source": [
    "matrix_times"
   ]
  },
  {
   "cell_type": "code",
   "execution_count": 10,
   "metadata": {},
   "outputs": [],
   "source": [
    "vector_plot = ggplot(vector_times,aes(size,time)) +\n",
    "    geom_point(color=\"green\") +\n",
    "    geom_errorbar(aes(ymin=time-time_stddev, ymax=time+time_stddev), width=500000, colour=\"black\") +\n",
    "    xlab(\"vector length [n]\") +\n",
    "    ylab(\"'v o v' computing time [s]\")"
   ]
  },
  {
   "cell_type": "code",
   "execution_count": 11,
   "metadata": {},
   "outputs": [
    {
     "data": {},
     "metadata": {},
     "output_type": "display_data"
    },
    {
     "data": {
      "image/png": "[encoded data removed]",
      "text/plain": [
       "plot without title"
      ]
     },
     "metadata": {},
     "output_type": "display_data"
    }
   ],
   "source": [
    "vector_plot"
   ]
  },
  {
   "cell_type": "code",
   "execution_count": 12,
   "metadata": {},
   "outputs": [],
   "source": [
    "matrix_plot = ggplot(matrix_times,aes(size,time)) +\n",
    "    geom_point(color=\"red\") +\n",
    "    geom_errorbar(aes(ymin=time-time_stddev, ymax=time+time_stddev), width=.1, colour=\"black\") +\n",
    "    xlab(\"matrix side length [n]\") +\n",
    "    ylab(\"m * v computing time [s]\")"
   ]
  },
  {
   "cell_type": "code",
   "execution_count": 13,
   "metadata": {},
   "outputs": [
    {
     "data": {},
     "metadata": {},
     "output_type": "display_data"
    },
    {
     "data": {
      "image/png": "[encoded data removed]",
      "text/plain": [
       "plot without title"
      ]
     },
     "metadata": {},
     "output_type": "display_data"
    }
   ],
   "source": [
    "matrix_plot"
   ]
  },
  {
   "cell_type": "code",
   "execution_count": 33,
   "metadata": {},
   "outputs": [
    {
     "data": {
      "text/plain": [
       "\n",
       "Call:\n",
       "lm(formula = time ~ poly(size, 1, raw = TRUE), data = vector_times)\n",
       "\n",
       "Coefficients:\n",
       "              (Intercept)  poly(size, 1, raw = TRUE)  \n",
       "               -5.309e-05                  1.972e-09  \n"
      ]
     },
     "metadata": {},
     "output_type": "display_data"
    }
   ],
   "source": [
    "vector_fit = lm(time ~ poly(size, 1, raw=TRUE), data=vector_times)\n",
    "vector_fit"
   ]
  },
  {
   "cell_type": "code",
   "execution_count": 34,
   "metadata": {},
   "outputs": [
    {
     "data": {},
     "metadata": {},
     "output_type": "display_data"
    },
    {
     "data": {
      "image/png": "[encoded data removed]",
      "text/plain": [
       "plot without title"
      ]
     },
     "metadata": {},
     "output_type": "display_data"
    }
   ],
   "source": [
    "newdata = data.frame(size = seq(1000,50000000, length.out=250))\n",
    "newdata$time = predict(vector_fit, newdata)\n",
    "vector_plot + geom_line(data=newdata, aes(size,time), color=\"red\")"
   ]
  },
  {
   "cell_type": "code",
   "execution_count": 35,
   "metadata": {},
   "outputs": [
    {
     "data": {
      "text/plain": [
       "\n",
       "Call:\n",
       "lm(formula = time ~ poly(size, 2, raw = TRUE), data = matrix_times)\n",
       "\n",
       "Coefficients:\n",
       "               (Intercept)  poly(size, 2, raw = TRUE)1  \n",
       "                -1.954e-03                   6.977e-07  \n",
       "poly(size, 2, raw = TRUE)2  \n",
       "                 2.094e-09  \n"
      ]
     },
     "metadata": {},
     "output_type": "display_data"
    }
   ],
   "source": [
    "matrix_fit = lm(time ~ poly(size, 2, raw=TRUE), data=matrix_times)\n",
    "matrix_fit"
   ]
  },
  {
   "cell_type": "code",
   "execution_count": 37,
   "metadata": {},
   "outputs": [
    {
     "data": {},
     "metadata": {},
     "output_type": "display_data"
    },
    {
     "data": {
      "image/png": "[encoded data removed]",
      "text/plain": [
       "plot without title"
      ]
     },
     "metadata": {},
     "output_type": "display_data"
    }
   ],
   "source": [
    "newdata = data.frame(size = seq(100,10000, length.out=250))\n",
    "newdata$time = predict(matrix_fit, newdata)\n",
    "matrix_plot + geom_line(data=newdata, aes(size,time), color=\"red\")"
   ]
  }
 ],
 "metadata": {
  "kernelspec": {
   "display_name": "R",
   "language": "R",
   "name": "ir"
  },
  "language_info": {
   "codemirror_mode": "r",
   "file_extension": ".r",
   "mimetype": "text/x-r-source",
   "name": "R",
   "pygments_lexer": "r",
   "version": "3.2.3"
  }
 },
 "nbformat": 4,
 "nbformat_minor": 2
}
