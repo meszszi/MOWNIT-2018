{
 "cells": [
  {
   "cell_type": "code",
   "execution_count": 4,
   "metadata": {},
   "outputs": [],
   "source": [
    "using DataFrames\n",
    "using CSV"
   ]
  },
  {
   "cell_type": "code",
   "execution_count": 5,
   "metadata": {},
   "outputs": [
    {
     "name": "stdout",
     "output_type": "stream",
     "text": [
      "180×3 DataFrame\n",
      "│ Row │ operation │ size   │ time     │\n",
      "│     │ \u001b[90mString⍰\u001b[39m   │ \u001b[90mInt64⍰\u001b[39m │ \u001b[90mFloat64⍰\u001b[39m │\n",
      "├─────┼───────────┼────────┼──────────┤\n",
      "│ 1   │ v o v     │ 1000   │ 3.0e-5   │\n",
      "│ 2   │ v o v     │ 1000   │ 1.1e-5   │\n",
      "│ 3   │ v o v     │ 1000   │ 1.1e-5   │\n",
      "│ 4   │ v o v     │ 1000   │ 1.1e-5   │\n",
      "│ 5   │ v o v     │ 1000   │ 1.0e-5   │\n",
      "│ 6   │ v o v     │ 1000   │ 1.1e-5   │\n",
      "│ 7   │ v o v     │ 1000   │ 1.1e-5   │\n",
      "⋮\n",
      "│ 173 │ m * v     │ 20000  │ 0.761921 │\n",
      "│ 174 │ m * v     │ 20000  │ 0.765746 │\n",
      "│ 175 │ m * v     │ 20000  │ 0.892226 │\n",
      "│ 176 │ m * v     │ 20000  │ 0.86576  │\n",
      "│ 177 │ m * v     │ 20000  │ 0.869799 │\n",
      "│ 178 │ m * v     │ 20000  │ 0.815853 │\n",
      "│ 179 │ m * v     │ 20000  │ 0.827375 │\n",
      "│ 180 │ m * v     │ 20000  │ 0.789771 │"
     ]
    }
   ],
   "source": [
    "input=\"times.csv\"\n",
    "mydata=CSV.read(input, delim=\";\")\n",
    "show(mydata)"
   ]
  }
 ],
 "metadata": {
  "kernelspec": {
   "display_name": "Julia 1.0.1",
   "language": "julia",
   "name": "julia-1.0"
  },
  "language_info": {
   "file_extension": ".jl",
   "mimetype": "application/julia",
   "name": "julia",
   "version": "1.0.1"
  }
 },
 "nbformat": 4,
 "nbformat_minor": 2
}
