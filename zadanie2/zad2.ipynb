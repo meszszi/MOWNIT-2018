{
 "cells": [
  {
   "cell_type": "code",
   "execution_count": 1,
   "metadata": {},
   "outputs": [
    {
     "ename": "InitError",
     "evalue": "InitError: MethodError: no method matching Parsers.Delimited(::Parsers.Quoted{Parsers.Strip{Parsers.Sentinel{typeof(Parsers.defaultparser),Parsers.Trie{0x00,false,missing,2,Tuple{}}}}}, ::String, ::String, ::String, ::String; ignore_repeated=false)\nClosest candidates are:\n  Parsers.Delimited(::Union{Function, Layer, Type}, ::Union{Char, String}...; ignorerepeated, newline) at /home/mateusz/.julia/packages/Parsers/v4oJT/src/Parsers.jl:308 got unsupported keyword argument \"ignore_repeated\"\n  Parsers.Delimited(!Matched::Union{Char, String}...; ignorerepeated, newline) at /home/mateusz/.julia/packages/Parsers/v4oJT/src/Parsers.jl:309 got unsupported keyword argument \"ignore_repeated\"\n  Parsers.Delimited(!Matched::Bool, !Matched::Bool, ::I, !Matched::T<:Parsers.Trie) where {I, T<:Trie} at /home/mateusz/.julia/packages/Parsers/v4oJT/src/Parsers.jl:307 got unsupported keyword argument \"ignore_repeated\"\nduring initialization of module CSV",
     "output_type": "error",
     "traceback": [
      "InitError: MethodError: no method matching Parsers.Delimited(::Parsers.Quoted{Parsers.Strip{Parsers.Sentinel{typeof(Parsers.defaultparser),Parsers.Trie{0x00,false,missing,2,Tuple{}}}}}, ::String, ::String, ::String, ::String; ignore_repeated=false)\nClosest candidates are:\n  Parsers.Delimited(::Union{Function, Layer, Type}, ::Union{Char, String}...; ignorerepeated, newline) at /home/mateusz/.julia/packages/Parsers/v4oJT/src/Parsers.jl:308 got unsupported keyword argument \"ignore_repeated\"\n  Parsers.Delimited(!Matched::Union{Char, String}...; ignorerepeated, newline) at /home/mateusz/.julia/packages/Parsers/v4oJT/src/Parsers.jl:309 got unsupported keyword argument \"ignore_repeated\"\n  Parsers.Delimited(!Matched::Bool, !Matched::Bool, ::I, !Matched::T<:Parsers.Trie) where {I, T<:Trie} at /home/mateusz/.julia/packages/Parsers/v4oJT/src/Parsers.jl:307 got unsupported keyword argument \"ignore_repeated\"\nduring initialization of module CSV",
      "",
      "Stacktrace:",
      " [1] kwerr(::NamedTuple{(:ignore_repeated,),Tuple{Bool}}, ::Type, ::Parsers.Quoted{Parsers.Strip{Parsers.Sentinel{typeof(Parsers.defaultparser),Parsers.Trie{0x00,false,missing,2,Tuple{}}}}}, ::String, ::String, ::String, ::String) at ./error.jl:97",
      " [2] (::getfield(Core, Symbol(\"#kw#Type\")))(::NamedTuple{(:ignore_repeated,),Tuple{Bool}}, ::Type{Parsers.Delimited}, ::Parsers.Quoted{Parsers.Strip{Parsers.Sentinel{typeof(Parsers.defaultparser),Parsers.Trie{0x00,false,missing,2,Tuple{}}}}}, ::String, ::String, ::String, ::String) at ./none:0",
      " [3] (::getfield(CSV, Symbol(\"##6#12\")){Bool,String})(::Parsers.Quoted{Parsers.Strip{Parsers.Sentinel{typeof(Parsers.defaultparser),Parsers.Trie{0x00,false,missing,2,Tuple{}}}}}) at /home/mateusz/.julia/packages/CSV/uLyo0/src/CSV.jl:151",
      " [4] |>(::Parsers.Quoted{Parsers.Strip{Parsers.Sentinel{typeof(Parsers.defaultparser),Parsers.Trie{0x00,false,missing,2,Tuple{}}}}}, ::getfield(CSV, Symbol(\"##6#12\")){Bool,String}) at ./operators.jl:813",
      " [5] (::getfield(CSV, Symbol(\"##3#9\")){Bool,Char,Nothing,Nothing,Char,String,Bool})(::Parsers.Sentinel{typeof(Parsers.defaultparser),Parsers.Trie{0x00,false,missing,2,Tuple{}}}) at /home/mateusz/.julia/packages/CSV/uLyo0/src/CSV.jl:149",
      " [6] |>(::Parsers.Sentinel{typeof(Parsers.defaultparser),Parsers.Trie{0x00,false,missing,2,Tuple{}}}, ::getfield(CSV, Symbol(\"##3#9\")){Bool,Char,Nothing,Nothing,Char,String,Bool}) at ./operators.jl:813",
      " [7] #File#1(::Int64, ::Bool, ::Int64, ::Nothing, ::Int64, ::Nothing, ::Bool, ::Nothing, ::Bool, ::Array{String,1}, ::String, ::String, ::Bool, ::Char, ::Nothing, ::Nothing, ::Char, ::Nothing, ::Nothing, ::Nothing, ::Nothing, ::Nothing, ::Dict{Type,Type}, ::Symbol, ::Bool, ::Bool, ::Bool, ::Base.Iterators.Pairs{Union{},Union{},Tuple{},NamedTuple{(),Tuple{}}}, ::Type, ::String) at /home/mateusz/.julia/packages/CSV/uLyo0/src/CSV.jl:148",
      " [8] (::getfield(Core, Symbol(\"#kw#Type\")))(::NamedTuple{(:allowmissing,),Tuple{Symbol}}, ::Type{CSV.File}, ::String) at ./none:0",
      " [9] __init__() at /home/mateusz/.julia/packages/CSV/uLyo0/src/CSV.jl:247",
      " [10] _include_from_serialized(::String, ::Array{Any,1}) at ./loading.jl:630",
      " [11] macro expansion at ./logging.jl:312 [inlined]",
      " [12] _require_search_from_serialized(::Base.PkgId, ::String) at ./loading.jl:701",
      " [13] _require(::Base.PkgId) at ./loading.jl:934",
      " [14] require(::Base.PkgId) at ./loading.jl:855",
      " [15] macro expansion at ./logging.jl:311 [inlined]",
      " [16] require(::Module, ::Symbol) at ./loading.jl:837",
      " [17] top-level scope at In[1]:2"
     ]
    }
   ],
   "source": [
    "using DataFrames\n",
    "using CSV\n",
    "using Statistics\n",
    "using Plots"
   ]
  },
  {
   "cell_type": "code",
   "execution_count": 112,
   "metadata": {},
   "outputs": [
    {
     "name": "stdout",
     "output_type": "stream",
     "text": [
      "\u001b[32m\u001b[1m Resolving\u001b[22m\u001b[39m package versions...\n",
      "\u001b[32m\u001b[1m  Updating\u001b[22m\u001b[39m `~/.julia/environments/v1.0/Project.toml`\n",
      " \u001b[90m [442fdcdd]\u001b[39m\u001b[92m + Measures v0.3.0\u001b[39m\n",
      "\u001b[32m\u001b[1m  Updating\u001b[22m\u001b[39m `~/.julia/environments/v1.0/Manifest.toml`\n",
      "\u001b[90m [no changes]\u001b[39m\n"
     ]
    }
   ],
   "source": [
    "using Pkg\n",
    "Pkg.add(\"Measures\")"
   ]
  },
  {
   "cell_type": "code",
   "execution_count": 9,
   "metadata": {},
   "outputs": [
    {
     "ename": "MethodError",
     "evalue": "MethodError: no method matching Parsers.Delimited(::Parsers.Quoted{Parsers.Strip{Parsers.Sentinel{typeof(Parsers.defaultparser),Parsers.Trie{0x00,false,missing,2,Tuple{}}}}}, ::String, ::String, ::String, ::String; ignore_repeated=false)\nClosest candidates are:\n  Parsers.Delimited(::Union{Function, Layer, Type}, ::Union{Char, String}...; ignorerepeated, newline) at /home/mateusz/.julia/packages/Parsers/v4oJT/src/Parsers.jl:308 got unsupported keyword argument \"ignore_repeated\"\n  Parsers.Delimited(!Matched::Union{Char, String}...; ignorerepeated, newline) at /home/mateusz/.julia/packages/Parsers/v4oJT/src/Parsers.jl:309 got unsupported keyword argument \"ignore_repeated\"\n  Parsers.Delimited(!Matched::Bool, !Matched::Bool, ::I, !Matched::T<:Parsers.Trie) where {I, T<:Trie} at /home/mateusz/.julia/packages/Parsers/v4oJT/src/Parsers.jl:307 got unsupported keyword argument \"ignore_repeated\"",
     "output_type": "error",
     "traceback": [
      "MethodError: no method matching Parsers.Delimited(::Parsers.Quoted{Parsers.Strip{Parsers.Sentinel{typeof(Parsers.defaultparser),Parsers.Trie{0x00,false,missing,2,Tuple{}}}}}, ::String, ::String, ::String, ::String; ignore_repeated=false)\nClosest candidates are:\n  Parsers.Delimited(::Union{Function, Layer, Type}, ::Union{Char, String}...; ignorerepeated, newline) at /home/mateusz/.julia/packages/Parsers/v4oJT/src/Parsers.jl:308 got unsupported keyword argument \"ignore_repeated\"\n  Parsers.Delimited(!Matched::Union{Char, String}...; ignorerepeated, newline) at /home/mateusz/.julia/packages/Parsers/v4oJT/src/Parsers.jl:309 got unsupported keyword argument \"ignore_repeated\"\n  Parsers.Delimited(!Matched::Bool, !Matched::Bool, ::I, !Matched::T<:Parsers.Trie) where {I, T<:Trie} at /home/mateusz/.julia/packages/Parsers/v4oJT/src/Parsers.jl:307 got unsupported keyword argument \"ignore_repeated\"",
      "",
      "Stacktrace:",
      " [1] kwerr(::NamedTuple{(:ignore_repeated,),Tuple{Bool}}, ::Type, ::Parsers.Quoted{Parsers.Strip{Parsers.Sentinel{typeof(Parsers.defaultparser),Parsers.Trie{0x00,false,missing,2,Tuple{}}}}}, ::String, ::String, ::String, ::String) at ./error.jl:97",
      " [2] (::getfield(Core, Symbol(\"#kw#Type\")))(::NamedTuple{(:ignore_repeated,),Tuple{Bool}}, ::Type{Parsers.Delimited}, ::Parsers.Quoted{Parsers.Strip{Parsers.Sentinel{typeof(Parsers.defaultparser),Parsers.Trie{0x00,false,missing,2,Tuple{}}}}}, ::String, ::String, ::String, ::String) at ./none:0",
      " [3] (::getfield(CSV, Symbol(\"##6#12\")){Bool,String})(::Parsers.Quoted{Parsers.Strip{Parsers.Sentinel{typeof(Parsers.defaultparser),Parsers.Trie{0x00,false,missing,2,Tuple{}}}}}) at /home/mateusz/.julia/packages/CSV/uLyo0/src/CSV.jl:151",
      " [4] |>(::Parsers.Quoted{Parsers.Strip{Parsers.Sentinel{typeof(Parsers.defaultparser),Parsers.Trie{0x00,false,missing,2,Tuple{}}}}}, ::getfield(CSV, Symbol(\"##6#12\")){Bool,String}) at ./operators.jl:813",
      " [5] (::getfield(CSV, Symbol(\"##3#9\")){Bool,Char,Nothing,Nothing,Char,String,Bool})(::Parsers.Sentinel{typeof(Parsers.defaultparser),Parsers.Trie{0x00,false,missing,2,Tuple{}}}) at /home/mateusz/.julia/packages/CSV/uLyo0/src/CSV.jl:149",
      " [6] |>(::Parsers.Sentinel{typeof(Parsers.defaultparser),Parsers.Trie{0x00,false,missing,2,Tuple{}}}, ::getfield(CSV, Symbol(\"##3#9\")){Bool,Char,Nothing,Nothing,Char,String,Bool}) at ./operators.jl:813",
      " [7] #File#1(::Int64, ::Bool, ::Int64, ::Nothing, ::Int64, ::Nothing, ::Bool, ::Nothing, ::Bool, ::Array{String,1}, ::String, ::String, ::Bool, ::Char, ::Nothing, ::Nothing, ::Char, ::Nothing, ::Nothing, ::Nothing, ::Nothing, ::Nothing, ::Dict{Type,Type}, ::Symbol, ::Bool, ::Bool, ::Bool, ::Base.Iterators.Pairs{Union{},Union{},Tuple{},NamedTuple{(),Tuple{}}}, ::Type, ::String) at /home/mateusz/.julia/packages/CSV/uLyo0/src/CSV.jl:148",
      " [8] (::getfield(Core, Symbol(\"#kw#Type\")))(::NamedTuple{(:delim,),Tuple{String}}, ::Type{CSV.File}, ::String) at ./none:0",
      " [9] #read#101(::Bool, ::Dict{Int64,Function}, ::Base.Iterators.Pairs{Symbol,String,Tuple{Symbol},NamedTuple{(:delim,),Tuple{String}}}, ::Function, ::String, ::Type) at /home/mateusz/.julia/packages/CSV/uLyo0/src/CSV.jl:304",
      " [10] (::getfield(CSV, Symbol(\"#kw##read\")))(::NamedTuple{(:delim,),Tuple{String}}, ::typeof(CSV.read), ::String, ::Type) at ./none:0 (repeats 2 times)",
      " [11] top-level scope at In[9]:2"
     ]
    }
   ],
   "source": [
    "input=\"times.csv\"\n",
    "mydata=CSV.read(input, delim=\";\")\n",
    "show(mydata)"
   ]
  },
  {
   "cell_type": "code",
   "execution_count": 83,
   "metadata": {},
   "outputs": [
    {
     "data": {
      "text/plain": [
       "DataFrame"
      ]
     },
     "execution_count": 83,
     "metadata": {},
     "output_type": "execute_result"
    }
   ],
   "source": [
    "typeof(mydata)"
   ]
  },
  {
   "cell_type": "code",
   "execution_count": 4,
   "metadata": {},
   "outputs": [
    {
     "ename": "UndefVarError",
     "evalue": "UndefVarError: mydata not defined",
     "output_type": "error",
     "traceback": [
      "UndefVarError: mydata not defined",
      "",
      "Stacktrace:",
      " [1] top-level scope at In[4]:1"
     ]
    }
   ],
   "source": [
    "df = by(mydata, [:operation, :size]) do group\n",
    "          DataFrame(time_mean = mean(group[:time]), time_stddev = sqrt(var(group[:time])))\n",
    "        end"
   ]
  },
  {
   "cell_type": "code",
   "execution_count": 5,
   "metadata": {},
   "outputs": [
    {
     "ename": "UndefVarError",
     "evalue": "UndefVarError: df not defined",
     "output_type": "error",
     "traceback": [
      "UndefVarError: df not defined",
      "",
      "Stacktrace:",
      " [1] top-level scope at In[5]:1"
     ]
    }
   ],
   "source": [
    "vector_df = df[df[:operation].==\"v o v\", :]"
   ]
  },
  {
   "cell_type": "code",
   "execution_count": 6,
   "metadata": {},
   "outputs": [
    {
     "ename": "UndefVarError",
     "evalue": "UndefVarError: df not defined",
     "output_type": "error",
     "traceback": [
      "UndefVarError: df not defined",
      "",
      "Stacktrace:",
      " [1] top-level scope at In[6]:1"
     ]
    }
   ],
   "source": [
    "matrix_df = df[df[:operation].==\"m * v\", :]"
   ]
  },
  {
   "cell_type": "code",
   "execution_count": 105,
   "metadata": {},
   "outputs": [
    {
     "data": {
      "image/svg+xml": [
       "<?xml version=\"1.0\" encoding=\"utf-8\"?>\n",
       "<svg xmlns=\"http://www.w3.org/2000/svg\" xmlns:xlink=\"http://www.w3.org/1999/xlink\" width=\"600\" height=\"500\" viewBox=\"0 0 2400 2000\">\n",
       "<defs>\n",
       "  <clipPath id=\"clip8200\">\n",
       "    <rect x=\"0\" y=\"0\" width=\"2000\" height=\"2000\"/>\n",
       "  </clipPath>\n",
       "</defs>\n",
       "<defs>\n",
       "  <clipPath id=\"clip8201\">\n",
       "    <rect x=\"0\" y=\"0\" width=\"2400\" height=\"2000\"/>\n",
       "  </clipPath>\n",
       "</defs>\n",
       "<polygon clip-path=\"url(#clip8201)\" points=\"\n",
       "0,2000 2400,2000 2400,0 0,0 \n",
       "  \" fill=\"#ffffff\" fill-opacity=\"1\"/>\n",
       "<defs>\n",
       "  <clipPath id=\"clip8202\">\n",
       "    <rect x=\"480\" y=\"0\" width=\"1681\" height=\"1681\"/>\n",
       "  </clipPath>\n",
       "</defs>\n",
       "<polygon clip-path=\"url(#clip8201)\" points=\"\n",
       "277.911,1832.1 2321.26,1832.1 2321.26,125.984 277.911,125.984 \n",
       "  \" fill=\"#ffffff\" fill-opacity=\"1\"/>\n",
       "<defs>\n",
       "  <clipPath id=\"clip8203\">\n",
       "    <rect x=\"277\" y=\"125\" width=\"2044\" height=\"1707\"/>\n",
       "  </clipPath>\n",
       "</defs>\n",
       "<polyline clip-path=\"url(#clip8203)\" style=\"stroke:#000000; stroke-width:2; stroke-opacity:0.1; fill:none\" points=\"\n",
       "  335.703,1832.1 335.703,125.984 \n",
       "  \"/>\n",
       "<polyline clip-path=\"url(#clip8203)\" style=\"stroke:#000000; stroke-width:2; stroke-opacity:0.1; fill:none\" points=\"\n",
       "  721.248,1832.1 721.248,125.984 \n",
       "  \"/>\n",
       "<polyline clip-path=\"url(#clip8203)\" style=\"stroke:#000000; stroke-width:2; stroke-opacity:0.1; fill:none\" points=\"\n",
       "  1106.79,1832.1 1106.79,125.984 \n",
       "  \"/>\n",
       "<polyline clip-path=\"url(#clip8203)\" style=\"stroke:#000000; stroke-width:2; stroke-opacity:0.1; fill:none\" points=\"\n",
       "  1492.34,1832.1 1492.34,125.984 \n",
       "  \"/>\n",
       "<polyline clip-path=\"url(#clip8203)\" style=\"stroke:#000000; stroke-width:2; stroke-opacity:0.1; fill:none\" points=\"\n",
       "  1877.88,1832.1 1877.88,125.984 \n",
       "  \"/>\n",
       "<polyline clip-path=\"url(#clip8203)\" style=\"stroke:#000000; stroke-width:2; stroke-opacity:0.1; fill:none\" points=\"\n",
       "  2263.43,1832.1 2263.43,125.984 \n",
       "  \"/>\n",
       "<polyline clip-path=\"url(#clip8203)\" style=\"stroke:#000000; stroke-width:2; stroke-opacity:0.1; fill:none\" points=\"\n",
       "  277.911,1783.91 2321.26,1783.91 \n",
       "  \"/>\n",
       "<polyline clip-path=\"url(#clip8203)\" style=\"stroke:#000000; stroke-width:2; stroke-opacity:0.1; fill:none\" points=\"\n",
       "  277.911,1385.27 2321.26,1385.27 \n",
       "  \"/>\n",
       "<polyline clip-path=\"url(#clip8203)\" style=\"stroke:#000000; stroke-width:2; stroke-opacity:0.1; fill:none\" points=\"\n",
       "  277.911,986.622 2321.26,986.622 \n",
       "  \"/>\n",
       "<polyline clip-path=\"url(#clip8203)\" style=\"stroke:#000000; stroke-width:2; stroke-opacity:0.1; fill:none\" points=\"\n",
       "  277.911,587.977 2321.26,587.977 \n",
       "  \"/>\n",
       "<polyline clip-path=\"url(#clip8203)\" style=\"stroke:#000000; stroke-width:2; stroke-opacity:0.1; fill:none\" points=\"\n",
       "  277.911,189.333 2321.26,189.333 \n",
       "  \"/>\n",
       "<polyline clip-path=\"url(#clip8201)\" style=\"stroke:#000000; stroke-width:4; stroke-opacity:1; fill:none\" points=\"\n",
       "  277.911,1832.1 2321.26,1832.1 \n",
       "  \"/>\n",
       "<polyline clip-path=\"url(#clip8201)\" style=\"stroke:#000000; stroke-width:4; stroke-opacity:1; fill:none\" points=\"\n",
       "  277.911,1832.1 277.911,125.984 \n",
       "  \"/>\n",
       "<polyline clip-path=\"url(#clip8201)\" style=\"stroke:#000000; stroke-width:4; stroke-opacity:1; fill:none\" points=\"\n",
       "  335.703,1832.1 335.703,1806.51 \n",
       "  \"/>\n",
       "<polyline clip-path=\"url(#clip8201)\" style=\"stroke:#000000; stroke-width:4; stroke-opacity:1; fill:none\" points=\"\n",
       "  721.248,1832.1 721.248,1806.51 \n",
       "  \"/>\n",
       "<polyline clip-path=\"url(#clip8201)\" style=\"stroke:#000000; stroke-width:4; stroke-opacity:1; fill:none\" points=\"\n",
       "  1106.79,1832.1 1106.79,1806.51 \n",
       "  \"/>\n",
       "<polyline clip-path=\"url(#clip8201)\" style=\"stroke:#000000; stroke-width:4; stroke-opacity:1; fill:none\" points=\"\n",
       "  1492.34,1832.1 1492.34,1806.51 \n",
       "  \"/>\n",
       "<polyline clip-path=\"url(#clip8201)\" style=\"stroke:#000000; stroke-width:4; stroke-opacity:1; fill:none\" points=\"\n",
       "  1877.88,1832.1 1877.88,1806.51 \n",
       "  \"/>\n",
       "<polyline clip-path=\"url(#clip8201)\" style=\"stroke:#000000; stroke-width:4; stroke-opacity:1; fill:none\" points=\"\n",
       "  2263.43,1832.1 2263.43,1806.51 \n",
       "  \"/>\n",
       "<polyline clip-path=\"url(#clip8201)\" style=\"stroke:#000000; stroke-width:4; stroke-opacity:1; fill:none\" points=\"\n",
       "  277.911,1783.91 308.561,1783.91 \n",
       "  \"/>\n",
       "<polyline clip-path=\"url(#clip8201)\" style=\"stroke:#000000; stroke-width:4; stroke-opacity:1; fill:none\" points=\"\n",
       "  277.911,1385.27 308.561,1385.27 \n",
       "  \"/>\n",
       "<polyline clip-path=\"url(#clip8201)\" style=\"stroke:#000000; stroke-width:4; stroke-opacity:1; fill:none\" points=\"\n",
       "  277.911,986.622 308.561,986.622 \n",
       "  \"/>\n",
       "<polyline clip-path=\"url(#clip8201)\" style=\"stroke:#000000; stroke-width:4; stroke-opacity:1; fill:none\" points=\"\n",
       "  277.911,587.977 308.561,587.977 \n",
       "  \"/>\n",
       "<polyline clip-path=\"url(#clip8201)\" style=\"stroke:#000000; stroke-width:4; stroke-opacity:1; fill:none\" points=\"\n",
       "  277.911,189.333 308.561,189.333 \n",
       "  \"/>\n",
       "<g clip-path=\"url(#clip8201)\">\n",
       "<text style=\"fill:#000000; fill-opacity:1; font-family:Arial,Helvetica Neue,Helvetica,sans-serif; font-size:48px; text-anchor:middle;\" transform=\"rotate(0, 335.703, 1886.1)\" x=\"335.703\" y=\"1886.1\">0</text>\n",
       "</g>\n",
       "<g clip-path=\"url(#clip8201)\">\n",
       "<text style=\"fill:#000000; fill-opacity:1; font-family:Arial,Helvetica Neue,Helvetica,sans-serif; font-size:48px; text-anchor:start;\" transform=\"rotate(0, 656.177, 1907.11)\" x=\"656.177\" y=\"1907.11\">1×10</text>\n",
       "</g>\n",
       "<g clip-path=\"url(#clip8201)\">\n",
       "<text style=\"fill:#000000; fill-opacity:1; font-family:Arial,Helvetica Neue,Helvetica,sans-serif; font-size:38px; text-anchor:start;\" transform=\"rotate(0, 764.575, 1879.7)\" x=\"764.575\" y=\"1879.7\">7</text>\n",
       "</g>\n",
       "<g clip-path=\"url(#clip8201)\">\n",
       "<text style=\"fill:#000000; fill-opacity:1; font-family:Arial,Helvetica Neue,Helvetica,sans-serif; font-size:48px; text-anchor:start;\" transform=\"rotate(0, 1041.72, 1907.11)\" x=\"1041.72\" y=\"1907.11\">2×10</text>\n",
       "</g>\n",
       "<g clip-path=\"url(#clip8201)\">\n",
       "<text style=\"fill:#000000; fill-opacity:1; font-family:Arial,Helvetica Neue,Helvetica,sans-serif; font-size:38px; text-anchor:start;\" transform=\"rotate(0, 1150.12, 1879.7)\" x=\"1150.12\" y=\"1879.7\">7</text>\n",
       "</g>\n",
       "<g clip-path=\"url(#clip8201)\">\n",
       "<text style=\"fill:#000000; fill-opacity:1; font-family:Arial,Helvetica Neue,Helvetica,sans-serif; font-size:48px; text-anchor:start;\" transform=\"rotate(0, 1427.27, 1907.11)\" x=\"1427.27\" y=\"1907.11\">3×10</text>\n",
       "</g>\n",
       "<g clip-path=\"url(#clip8201)\">\n",
       "<text style=\"fill:#000000; fill-opacity:1; font-family:Arial,Helvetica Neue,Helvetica,sans-serif; font-size:38px; text-anchor:start;\" transform=\"rotate(0, 1535.67, 1879.7)\" x=\"1535.67\" y=\"1879.7\">7</text>\n",
       "</g>\n",
       "<g clip-path=\"url(#clip8201)\">\n",
       "<text style=\"fill:#000000; fill-opacity:1; font-family:Arial,Helvetica Neue,Helvetica,sans-serif; font-size:48px; text-anchor:start;\" transform=\"rotate(0, 1812.81, 1907.11)\" x=\"1812.81\" y=\"1907.11\">4×10</text>\n",
       "</g>\n",
       "<g clip-path=\"url(#clip8201)\">\n",
       "<text style=\"fill:#000000; fill-opacity:1; font-family:Arial,Helvetica Neue,Helvetica,sans-serif; font-size:38px; text-anchor:start;\" transform=\"rotate(0, 1921.21, 1879.7)\" x=\"1921.21\" y=\"1879.7\">7</text>\n",
       "</g>\n",
       "<g clip-path=\"url(#clip8201)\">\n",
       "<text style=\"fill:#000000; fill-opacity:1; font-family:Arial,Helvetica Neue,Helvetica,sans-serif; font-size:48px; text-anchor:start;\" transform=\"rotate(0, 2198.36, 1907.11)\" x=\"2198.36\" y=\"1907.11\">5×10</text>\n",
       "</g>\n",
       "<g clip-path=\"url(#clip8201)\">\n",
       "<text style=\"fill:#000000; fill-opacity:1; font-family:Arial,Helvetica Neue,Helvetica,sans-serif; font-size:38px; text-anchor:start;\" transform=\"rotate(0, 2306.76, 1879.7)\" x=\"2306.76\" y=\"1879.7\">7</text>\n",
       "</g>\n",
       "<g clip-path=\"url(#clip8201)\">\n",
       "<text style=\"fill:#000000; fill-opacity:1; font-family:Arial,Helvetica Neue,Helvetica,sans-serif; font-size:48px; text-anchor:end;\" transform=\"rotate(0, 253.911, 1801.41)\" x=\"253.911\" y=\"1801.41\">0.000</text>\n",
       "</g>\n",
       "<g clip-path=\"url(#clip8201)\">\n",
       "<text style=\"fill:#000000; fill-opacity:1; font-family:Arial,Helvetica Neue,Helvetica,sans-serif; font-size:48px; text-anchor:end;\" transform=\"rotate(0, 253.911, 1402.77)\" x=\"253.911\" y=\"1402.77\">0.025</text>\n",
       "</g>\n",
       "<g clip-path=\"url(#clip8201)\">\n",
       "<text style=\"fill:#000000; fill-opacity:1; font-family:Arial,Helvetica Neue,Helvetica,sans-serif; font-size:48px; text-anchor:end;\" transform=\"rotate(0, 253.911, 1004.12)\" x=\"253.911\" y=\"1004.12\">0.050</text>\n",
       "</g>\n",
       "<g clip-path=\"url(#clip8201)\">\n",
       "<text style=\"fill:#000000; fill-opacity:1; font-family:Arial,Helvetica Neue,Helvetica,sans-serif; font-size:48px; text-anchor:end;\" transform=\"rotate(0, 253.911, 605.477)\" x=\"253.911\" y=\"605.477\">0.075</text>\n",
       "</g>\n",
       "<g clip-path=\"url(#clip8201)\">\n",
       "<text style=\"fill:#000000; fill-opacity:1; font-family:Arial,Helvetica Neue,Helvetica,sans-serif; font-size:48px; text-anchor:end;\" transform=\"rotate(0, 253.911, 206.833)\" x=\"253.911\" y=\"206.833\">0.100</text>\n",
       "</g>\n",
       "<g clip-path=\"url(#clip8201)\">\n",
       "<text style=\"fill:#000000; fill-opacity:1; font-family:Arial,Helvetica Neue,Helvetica,sans-serif; font-size:84px; text-anchor:middle;\" transform=\"rotate(0, 1299.59, 73.2)\" x=\"1299.59\" y=\"73.2\">Vector o Vector multiplication</text>\n",
       "</g>\n",
       "<g clip-path=\"url(#clip8201)\">\n",
       "<text style=\"fill:#000000; fill-opacity:1; font-family:Arial,Helvetica Neue,Helvetica,sans-serif; font-size:66px; text-anchor:middle;\" transform=\"rotate(0, 1299.59, 1990.4)\" x=\"1299.59\" y=\"1990.4\">vector size [n]</text>\n",
       "</g>\n",
       "<g clip-path=\"url(#clip8201)\">\n",
       "<text style=\"fill:#000000; fill-opacity:1; font-family:Arial,Helvetica Neue,Helvetica,sans-serif; font-size:66px; text-anchor:middle;\" transform=\"rotate(-90, 57.6, 979.042)\" x=\"57.6\" y=\"979.042\">calculation time [s]</text>\n",
       "</g>\n",
       "<circle clip-path=\"url(#clip8203)\" style=\"fill:#000000; stroke:none; fill-opacity:1\" cx=\"335.741\" cy=\"1783.75\" r=\"18\"/>\n",
       "<circle clip-path=\"url(#clip8203)\" style=\"fill:#add8e6; stroke:none; fill-opacity:1\" cx=\"335.741\" cy=\"1783.75\" r=\"14\"/>\n",
       "<circle clip-path=\"url(#clip8203)\" style=\"fill:#000000; stroke:none; fill-opacity:1\" cx=\"336.088\" cy=\"1782.74\" r=\"18\"/>\n",
       "<circle clip-path=\"url(#clip8203)\" style=\"fill:#add8e6; stroke:none; fill-opacity:1\" cx=\"336.088\" cy=\"1782.74\" r=\"14\"/>\n",
       "<circle clip-path=\"url(#clip8203)\" style=\"fill:#000000; stroke:none; fill-opacity:1\" cx=\"337.631\" cy=\"1782.01\" r=\"18\"/>\n",
       "<circle clip-path=\"url(#clip8203)\" style=\"fill:#add8e6; stroke:none; fill-opacity:1\" cx=\"337.631\" cy=\"1782.01\" r=\"14\"/>\n",
       "<circle clip-path=\"url(#clip8203)\" style=\"fill:#000000; stroke:none; fill-opacity:1\" cx=\"339.558\" cy=\"1780.9\" r=\"18\"/>\n",
       "<circle clip-path=\"url(#clip8203)\" style=\"fill:#add8e6; stroke:none; fill-opacity:1\" cx=\"339.558\" cy=\"1780.9\" r=\"14\"/>\n",
       "<circle clip-path=\"url(#clip8203)\" style=\"fill:#000000; stroke:none; fill-opacity:1\" cx=\"354.98\" cy=\"1768.17\" r=\"18\"/>\n",
       "<circle clip-path=\"url(#clip8203)\" style=\"fill:#add8e6; stroke:none; fill-opacity:1\" cx=\"354.98\" cy=\"1768.17\" r=\"14\"/>\n",
       "<circle clip-path=\"url(#clip8203)\" style=\"fill:#000000; stroke:none; fill-opacity:1\" cx=\"374.257\" cy=\"1752.74\" r=\"18\"/>\n",
       "<circle clip-path=\"url(#clip8203)\" style=\"fill:#add8e6; stroke:none; fill-opacity:1\" cx=\"374.257\" cy=\"1752.74\" r=\"14\"/>\n",
       "<circle clip-path=\"url(#clip8203)\" style=\"fill:#000000; stroke:none; fill-opacity:1\" cx=\"528.476\" cy=\"1625.83\" r=\"18\"/>\n",
       "<circle clip-path=\"url(#clip8203)\" style=\"fill:#add8e6; stroke:none; fill-opacity:1\" cx=\"528.476\" cy=\"1625.83\" r=\"14\"/>\n",
       "<circle clip-path=\"url(#clip8203)\" style=\"fill:#000000; stroke:none; fill-opacity:1\" cx=\"721.248\" cy=\"1471.07\" r=\"18\"/>\n",
       "<circle clip-path=\"url(#clip8203)\" style=\"fill:#add8e6; stroke:none; fill-opacity:1\" cx=\"721.248\" cy=\"1471.07\" r=\"14\"/>\n",
       "<circle clip-path=\"url(#clip8203)\" style=\"fill:#000000; stroke:none; fill-opacity:1\" cx=\"1106.79\" cy=\"1160.04\" r=\"18\"/>\n",
       "<circle clip-path=\"url(#clip8203)\" style=\"fill:#add8e6; stroke:none; fill-opacity:1\" cx=\"1106.79\" cy=\"1160.04\" r=\"14\"/>\n",
       "<circle clip-path=\"url(#clip8203)\" style=\"fill:#000000; stroke:none; fill-opacity:1\" cx=\"1492.34\" cy=\"852.153\" r=\"18\"/>\n",
       "<circle clip-path=\"url(#clip8203)\" style=\"fill:#add8e6; stroke:none; fill-opacity:1\" cx=\"1492.34\" cy=\"852.153\" r=\"14\"/>\n",
       "<circle clip-path=\"url(#clip8203)\" style=\"fill:#000000; stroke:none; fill-opacity:1\" cx=\"1877.88\" cy=\"528.002\" r=\"18\"/>\n",
       "<circle clip-path=\"url(#clip8203)\" style=\"fill:#add8e6; stroke:none; fill-opacity:1\" cx=\"1877.88\" cy=\"528.002\" r=\"14\"/>\n",
       "<circle clip-path=\"url(#clip8203)\" style=\"fill:#000000; stroke:none; fill-opacity:1\" cx=\"2263.43\" cy=\"203.896\" r=\"18\"/>\n",
       "<circle clip-path=\"url(#clip8203)\" style=\"fill:#add8e6; stroke:none; fill-opacity:1\" cx=\"2263.43\" cy=\"203.896\" r=\"14\"/>\n",
       "<polyline clip-path=\"url(#clip8203)\" style=\"stroke:#009af9; stroke-width:4; stroke-opacity:1; fill:none\" points=\"\n",
       "  335.741,1783.81 335.741,1783.69 \n",
       "  \"/>\n",
       "<polyline clip-path=\"url(#clip8203)\" style=\"stroke:#009af9; stroke-width:4; stroke-opacity:1; fill:none\" points=\"\n",
       "  336.088,1782.86 336.088,1782.62 \n",
       "  \"/>\n",
       "<polyline clip-path=\"url(#clip8203)\" style=\"stroke:#009af9; stroke-width:4; stroke-opacity:1; fill:none\" points=\"\n",
       "  337.631,1782.63 337.631,1781.39 \n",
       "  \"/>\n",
       "<polyline clip-path=\"url(#clip8203)\" style=\"stroke:#009af9; stroke-width:4; stroke-opacity:1; fill:none\" points=\"\n",
       "  339.558,1781.11 339.558,1780.69 \n",
       "  \"/>\n",
       "<polyline clip-path=\"url(#clip8203)\" style=\"stroke:#009af9; stroke-width:4; stroke-opacity:1; fill:none\" points=\"\n",
       "  354.98,1768.65 354.98,1767.69 \n",
       "  \"/>\n",
       "<polyline clip-path=\"url(#clip8203)\" style=\"stroke:#009af9; stroke-width:4; stroke-opacity:1; fill:none\" points=\"\n",
       "  374.257,1753.37 374.257,1752.12 \n",
       "  \"/>\n",
       "<polyline clip-path=\"url(#clip8203)\" style=\"stroke:#009af9; stroke-width:4; stroke-opacity:1; fill:none\" points=\"\n",
       "  528.476,1628.43 528.476,1623.23 \n",
       "  \"/>\n",
       "<polyline clip-path=\"url(#clip8203)\" style=\"stroke:#009af9; stroke-width:4; stroke-opacity:1; fill:none\" points=\"\n",
       "  721.248,1473.9 721.248,1468.24 \n",
       "  \"/>\n",
       "<polyline clip-path=\"url(#clip8203)\" style=\"stroke:#009af9; stroke-width:4; stroke-opacity:1; fill:none\" points=\"\n",
       "  1106.79,1162.91 1106.79,1157.17 \n",
       "  \"/>\n",
       "<polyline clip-path=\"url(#clip8203)\" style=\"stroke:#009af9; stroke-width:4; stroke-opacity:1; fill:none\" points=\"\n",
       "  1492.34,867.145 1492.34,837.16 \n",
       "  \"/>\n",
       "<polyline clip-path=\"url(#clip8203)\" style=\"stroke:#009af9; stroke-width:4; stroke-opacity:1; fill:none\" points=\"\n",
       "  1877.88,538.13 1877.88,517.874 \n",
       "  \"/>\n",
       "<polyline clip-path=\"url(#clip8203)\" style=\"stroke:#009af9; stroke-width:4; stroke-opacity:1; fill:none\" points=\"\n",
       "  2263.43,233.522 2263.43,174.271 \n",
       "  \"/>\n",
       "<line clip-path=\"url(#clip8203)\" x1=\"355.741\" y1=\"1783.81\" x2=\"315.741\" y2=\"1783.81\" style=\"stroke:#000000; stroke-width:4; stroke-opacity:1\"/>\n",
       "<line clip-path=\"url(#clip8203)\" x1=\"355.741\" y1=\"1783.69\" x2=\"315.741\" y2=\"1783.69\" style=\"stroke:#000000; stroke-width:4; stroke-opacity:1\"/>\n",
       "<line clip-path=\"url(#clip8203)\" x1=\"356.088\" y1=\"1782.86\" x2=\"316.088\" y2=\"1782.86\" style=\"stroke:#000000; stroke-width:4; stroke-opacity:1\"/>\n",
       "<line clip-path=\"url(#clip8203)\" x1=\"356.088\" y1=\"1782.62\" x2=\"316.088\" y2=\"1782.62\" style=\"stroke:#000000; stroke-width:4; stroke-opacity:1\"/>\n",
       "<line clip-path=\"url(#clip8203)\" x1=\"357.631\" y1=\"1782.63\" x2=\"317.631\" y2=\"1782.63\" style=\"stroke:#000000; stroke-width:4; stroke-opacity:1\"/>\n",
       "<line clip-path=\"url(#clip8203)\" x1=\"357.631\" y1=\"1781.39\" x2=\"317.631\" y2=\"1781.39\" style=\"stroke:#000000; stroke-width:4; stroke-opacity:1\"/>\n",
       "<line clip-path=\"url(#clip8203)\" x1=\"359.558\" y1=\"1781.11\" x2=\"319.558\" y2=\"1781.11\" style=\"stroke:#000000; stroke-width:4; stroke-opacity:1\"/>\n",
       "<line clip-path=\"url(#clip8203)\" x1=\"359.558\" y1=\"1780.69\" x2=\"319.558\" y2=\"1780.69\" style=\"stroke:#000000; stroke-width:4; stroke-opacity:1\"/>\n",
       "<line clip-path=\"url(#clip8203)\" x1=\"374.98\" y1=\"1768.65\" x2=\"334.98\" y2=\"1768.65\" style=\"stroke:#000000; stroke-width:4; stroke-opacity:1\"/>\n",
       "<line clip-path=\"url(#clip8203)\" x1=\"374.98\" y1=\"1767.69\" x2=\"334.98\" y2=\"1767.69\" style=\"stroke:#000000; stroke-width:4; stroke-opacity:1\"/>\n",
       "<line clip-path=\"url(#clip8203)\" x1=\"394.257\" y1=\"1753.37\" x2=\"354.257\" y2=\"1753.37\" style=\"stroke:#000000; stroke-width:4; stroke-opacity:1\"/>\n",
       "<line clip-path=\"url(#clip8203)\" x1=\"394.257\" y1=\"1752.12\" x2=\"354.257\" y2=\"1752.12\" style=\"stroke:#000000; stroke-width:4; stroke-opacity:1\"/>\n",
       "<line clip-path=\"url(#clip8203)\" x1=\"548.476\" y1=\"1628.43\" x2=\"508.476\" y2=\"1628.43\" style=\"stroke:#000000; stroke-width:4; stroke-opacity:1\"/>\n",
       "<line clip-path=\"url(#clip8203)\" x1=\"548.476\" y1=\"1623.23\" x2=\"508.476\" y2=\"1623.23\" style=\"stroke:#000000; stroke-width:4; stroke-opacity:1\"/>\n",
       "<line clip-path=\"url(#clip8203)\" x1=\"741.248\" y1=\"1473.9\" x2=\"701.248\" y2=\"1473.9\" style=\"stroke:#000000; stroke-width:4; stroke-opacity:1\"/>\n",
       "<line clip-path=\"url(#clip8203)\" x1=\"741.248\" y1=\"1468.24\" x2=\"701.248\" y2=\"1468.24\" style=\"stroke:#000000; stroke-width:4; stroke-opacity:1\"/>\n",
       "<line clip-path=\"url(#clip8203)\" x1=\"1126.79\" y1=\"1162.91\" x2=\"1086.79\" y2=\"1162.91\" style=\"stroke:#000000; stroke-width:4; stroke-opacity:1\"/>\n",
       "<line clip-path=\"url(#clip8203)\" x1=\"1126.79\" y1=\"1157.17\" x2=\"1086.79\" y2=\"1157.17\" style=\"stroke:#000000; stroke-width:4; stroke-opacity:1\"/>\n",
       "<line clip-path=\"url(#clip8203)\" x1=\"1512.34\" y1=\"867.145\" x2=\"1472.34\" y2=\"867.145\" style=\"stroke:#000000; stroke-width:4; stroke-opacity:1\"/>\n",
       "<line clip-path=\"url(#clip8203)\" x1=\"1512.34\" y1=\"837.16\" x2=\"1472.34\" y2=\"837.16\" style=\"stroke:#000000; stroke-width:4; stroke-opacity:1\"/>\n",
       "<line clip-path=\"url(#clip8203)\" x1=\"1897.88\" y1=\"538.13\" x2=\"1857.88\" y2=\"538.13\" style=\"stroke:#000000; stroke-width:4; stroke-opacity:1\"/>\n",
       "<line clip-path=\"url(#clip8203)\" x1=\"1897.88\" y1=\"517.874\" x2=\"1857.88\" y2=\"517.874\" style=\"stroke:#000000; stroke-width:4; stroke-opacity:1\"/>\n",
       "<line clip-path=\"url(#clip8203)\" x1=\"2283.43\" y1=\"233.522\" x2=\"2243.43\" y2=\"233.522\" style=\"stroke:#000000; stroke-width:4; stroke-opacity:1\"/>\n",
       "<line clip-path=\"url(#clip8203)\" x1=\"2283.43\" y1=\"174.271\" x2=\"2243.43\" y2=\"174.271\" style=\"stroke:#000000; stroke-width:4; stroke-opacity:1\"/>\n",
       "</svg>\n"
      ]
     },
     "execution_count": 105,
     "metadata": {},
     "output_type": "execute_result"
    }
   ],
   "source": [
    "v_plot = scatter(\n",
    "    title = \"Vector o Vector multiplication\",\n",
    "    vector_df[:size],\n",
    "    vector_df[:time_mean],\n",
    "    yerr = vector_df[:time_stddev],\n",
    "    size = (600, 500),\n",
    "    markershape = :circle,\n",
    "    markercolor = :lightblue,\n",
    "    xlabel = \"vector size [n]\",\n",
    "    ylabel = \"calculation time [s]\",\n",
    "    label = \"\")"
   ]
  },
  {
   "cell_type": "code",
   "execution_count": 7,
   "metadata": {},
   "outputs": [
    {
     "ename": "UndefVarError",
     "evalue": "UndefVarError: matrix_df not defined",
     "output_type": "error",
     "traceback": [
      "UndefVarError: matrix_df not defined",
      "",
      "Stacktrace:",
      " [1] top-level scope at In[7]:1"
     ]
    }
   ],
   "source": [
    "m_plot = scatter(\n",
    "    title = \"Matrix * Vector multiplication\",\n",
    "    matrix_df[:size],\n",
    "    matrix_df[:time_mean],\n",
    "    ribbon = matrix_df[:time_stddev],\n",
    "    size = (600, 500),\n",
    "    markershape = :circle,\n",
    "    markercolor = :yellow,\n",
    "    xlabel = \"matrix size [n]\",\n",
    "    ylabel = \"calculation time [s]\",\n",
    "    label = \"\")"
   ]
  },
  {
   "cell_type": "code",
   "execution_count": 1,
   "metadata": {},
   "outputs": [
    {
     "ename": "UndefVarError",
     "evalue": "UndefVarError: plot not defined",
     "output_type": "error",
     "traceback": [
      "UndefVarError: plot not defined",
      "",
      "Stacktrace:",
      " [1] top-level scope at In[1]:1"
     ]
    }
   ],
   "source": [
    "plot(v_plot, m_plot, size = (600, 900))"
   ]
  }
 ],
 "metadata": {
  "kernelspec": {
   "display_name": "Julia 1.0.1",
   "language": "julia",
   "name": "julia-1.0"
  },
  "language_info": {
   "file_extension": ".jl",
   "mimetype": "application/julia",
   "name": "julia",
   "version": "1.0.1"
  }
 },
 "nbformat": 4,
 "nbformat_minor": 2
}
