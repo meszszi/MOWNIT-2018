{
 "cells": [
  {
   "cell_type": "markdown",
   "metadata": {},
   "source": [
    "### Laboratorium 3"
   ]
  },
  {
   "cell_type": "code",
   "execution_count": 1,
   "metadata": {},
   "outputs": [
    {
     "data": {
      "text/plain": [
       "2×2 Array{Float64,2}:\n",
       " 1.0  2.0\n",
       " 3.0  0.0"
      ]
     },
     "execution_count": 1,
     "metadata": {},
     "output_type": "execute_result"
    }
   ],
   "source": [
    "#tablice wielowymiarowe w Julii\n",
    "Asmall=[[1.0 2.0]; [3.0 0.0]]\n",
    "Bsmall=[[1.0 -1.0]; [2.0 -2.0]]\n",
    "size(Bsmall)\n",
    "Asmall"
   ]
  },
  {
   "cell_type": "code",
   "execution_count": 2,
   "metadata": {},
   "outputs": [
    {
     "name": "stdout",
     "output_type": "stream",
     "text": [
      "\u001b[32m\u001b[1m  Updating\u001b[22m\u001b[39m registry at `~/.julia/registries/General`\n",
      "\u001b[32m\u001b[1m  Updating\u001b[22m\u001b[39m git-repo `https://github.com/JuliaRegistries/General.git`\n",
      "\u001b[2K\u001b[?25h[1mFetching:\u001b[22m\u001b[39m [========================================>]  99.9 %0.0 %                            ]  29.1 %>                   ]  52.2 % [============================>            ]  68.9 %85.4 %\u001b[32m\u001b[1m Resolving\u001b[22m\u001b[39m package versions...\n",
      "\u001b[32m\u001b[1m Installed\u001b[22m\u001b[39m CodecZlib ─ v0.5.1\n",
      "\u001b[32m\u001b[1m Installed\u001b[22m\u001b[39m Parsers ─── v0.2.10\n",
      "\u001b[32m\u001b[1m Installed\u001b[22m\u001b[39m MbedTLS ─── v0.6.5\n",
      "\u001b[32m\u001b[1m  Updating\u001b[22m\u001b[39m `~/.julia/environments/v1.0/Project.toml`\n",
      "\u001b[90m [no changes]\u001b[39m\n",
      "\u001b[32m\u001b[1m  Updating\u001b[22m\u001b[39m `~/.julia/environments/v1.0/Manifest.toml`\n",
      " \u001b[90m [944b1d66]\u001b[39m\u001b[93m ↑ CodecZlib v0.5.0 ⇒ v0.5.1\u001b[39m\n",
      " \u001b[90m [739be429]\u001b[39m\u001b[93m ↑ MbedTLS v0.6.4 ⇒ v0.6.5\u001b[39m\n",
      " \u001b[90m [69de0a69]\u001b[39m\u001b[93m ↑ Parsers v0.2.9 ⇒ v0.2.10\u001b[39m\n",
      "\u001b[32m\u001b[1m  Building\u001b[22m\u001b[39m MbedTLS ──→ `~/.julia/packages/MbedTLS/eaAxb/deps/build.log`\n",
      "\u001b[32m\u001b[1m  Building\u001b[22m\u001b[39m CodecZlib → `~/.julia/packages/CodecZlib/DAjXH/deps/build.log`\n"
     ]
    }
   ],
   "source": [
    "using Pkg\n",
    "Pkg.add(\"LinearAlgebra\")"
   ]
  },
  {
   "cell_type": "code",
   "execution_count": 3,
   "metadata": {},
   "outputs": [],
   "source": [
    "using LinearAlgebra.BLAS"
   ]
  },
  {
   "cell_type": "code",
   "execution_count": 2,
   "metadata": {},
   "outputs": [
    {
     "data": {
      "text/plain": [
       "naive_multiplication (generic function with 1 method)"
      ]
     },
     "execution_count": 2,
     "metadata": {},
     "output_type": "execute_result"
    }
   ],
   "source": [
    "# mnożenie macierzy - wersja naiwna\n",
    "function naive_multiplication(A,B)\n",
    "C=zeros(Float64,size(A,1),size(B,2))\n",
    "  for i=1:size(A,1)\n",
    "    for j=1:size(B,2)\n",
    "        for k=1:size(A,2)\n",
    "            C[i,j]=C[i,j]+A[i,k]*B[k,j]\n",
    "        end\n",
    "    end\n",
    "end\n",
    "C\n",
    "end"
   ]
  },
  {
   "cell_type": "code",
   "execution_count": 3,
   "metadata": {},
   "outputs": [
    {
     "data": {
      "text/plain": [
       "2×2 Array{Float64,2}:\n",
       " 5.0  -5.0\n",
       " 3.0  -3.0"
      ]
     },
     "execution_count": 3,
     "metadata": {},
     "output_type": "execute_result"
    }
   ],
   "source": [
    "#kompilacja\n",
    "naive_multiplication(Asmall,Bsmall)"
   ]
  },
  {
   "cell_type": "code",
   "execution_count": 4,
   "metadata": {},
   "outputs": [
    {
     "data": {
      "text/plain": [
       "2×2 Array{Float64,2}:\n",
       " 5.0  -5.0\n",
       " 3.0  -3.0"
      ]
     },
     "execution_count": 4,
     "metadata": {},
     "output_type": "execute_result"
    }
   ],
   "source": [
    "#kompilacja funkcji BLASowej do mnożenia macierzy\n",
    "#https://docs.julialang.org/en/stable/stdlib/linalg/#BLAS-Functions-1\n",
    "Asmall*Bsmall"
   ]
  },
  {
   "cell_type": "code",
   "execution_count": 5,
   "metadata": {},
   "outputs": [],
   "source": [
    "A=rand(1000,1000);\n",
    "B=rand(1000,1000);"
   ]
  },
  {
   "cell_type": "code",
   "execution_count": 6,
   "metadata": {},
   "outputs": [
    {
     "data": {
      "text/plain": [
       "4-element Array{Int64,1}:\n",
       " 1\n",
       " 3\n",
       " 2\n",
       " 4"
      ]
     },
     "execution_count": 6,
     "metadata": {},
     "output_type": "execute_result"
    }
   ],
   "source": [
    "# Należy pamiętać o \"column-major\" dostępie do tablic - \n",
    "# pierwszy indeks zmienia się szybciej\n",
    "# tak jak Matlab, R, Fortran \n",
    "# inaczej niz C, Python\n",
    "A1 = [[1 2]; [3 4]]\n",
    "vec(A1)"
   ]
  },
  {
   "cell_type": "code",
   "execution_count": 7,
   "metadata": {},
   "outputs": [
    {
     "data": {
      "text/plain": [
       "better_multiplication (generic function with 1 method)"
      ]
     },
     "execution_count": 7,
     "metadata": {},
     "output_type": "execute_result"
    }
   ],
   "source": [
    "# poprawiona funkcja korzytająca z powyższego oraz z faktu, że\n",
    "#można zmieniać kolejność operacji dodawania (a co za tym idzie kolejnosc petli).\n",
    "function better_multiplication( A,B )\n",
    "C=zeros(Float64,size(A,1),size(B,2))\n",
    "  for j=1:size(B,2)\n",
    "    for k=1:size(A,2)\n",
    "        for i=1:size(A,1)\n",
    "            C[i,j]=C[i,j]+A[i,k]*B[k,j]\n",
    "        end\n",
    "    end\n",
    "end\n",
    "C\n",
    "end"
   ]
  },
  {
   "cell_type": "code",
   "execution_count": 8,
   "metadata": {},
   "outputs": [
    {
     "data": {
      "text/plain": [
       "3.465708656"
      ]
     },
     "execution_count": 8,
     "metadata": {},
     "output_type": "execute_result"
    }
   ],
   "source": [
    "@elapsed naive_multiplication(A,B)"
   ]
  },
  {
   "cell_type": "code",
   "execution_count": 9,
   "metadata": {},
   "outputs": [
    {
     "name": "stdout",
     "output_type": "stream",
     "text": [
      "1.786273643\n",
      "3.425410134\n"
     ]
    }
   ],
   "source": [
    "println(@elapsed better_multiplication(A,B))\n",
    "println(@elapsed naive_multiplication(A,B))"
   ]
  },
  {
   "cell_type": "code",
   "execution_count": 10,
   "metadata": {},
   "outputs": [
    {
     "data": {
      "text/plain": [
       "5-element Array{Float64,1}:\n",
       " 0.038367201\n",
       " 0.036221483\n",
       " 0.039840321\n",
       " 0.034399278\n",
       " 0.034011162"
      ]
     },
     "execution_count": 10,
     "metadata": {},
     "output_type": "execute_result"
    }
   ],
   "source": [
    "blas_times = [(@elapsed A * B) for i in 1:5]"
   ]
  },
  {
   "cell_type": "code",
   "execution_count": null,
   "metadata": {},
   "outputs": [],
   "source": [
    "blas_times = [(@elapsed A * B) for i in 1:5]"
   ]
  },
  {
   "cell_type": "code",
   "execution_count": 13,
   "metadata": {},
   "outputs": [
    {
     "data": {
      "text/plain": [
       "0.075865584"
      ]
     },
     "execution_count": 13,
     "metadata": {},
     "output_type": "execute_result"
    }
   ],
   "source": [
    "@elapsed A*B"
   ]
  },
  {
   "cell_type": "code",
   "execution_count": 22,
   "metadata": {},
   "outputs": [
    {
     "name": "stdout",
     "output_type": "stream",
     "text": [
      "\u001b[32m\u001b[1m  Updating\u001b[22m\u001b[39m registry at `~/.julia/registries/General`\n",
      "\u001b[32m\u001b[1m  Updating\u001b[22m\u001b[39m git-repo `https://github.com/JuliaRegistries/General.git`\n",
      "\u001b[?25l\u001b[2K\u001b[?25h\u001b[32m\u001b[1m Resolving\u001b[22m\u001b[39m package versions...\n",
      "\u001b[32m\u001b[1m Installed\u001b[22m\u001b[39m Polynomials ─ v0.5.1\n",
      "\u001b[32m\u001b[1m  Updating\u001b[22m\u001b[39m `~/.julia/environments/v1.0/Project.toml`\n",
      " \u001b[90m [f27b6e38]\u001b[39m\u001b[92m + Polynomials v0.5.1\u001b[39m\n",
      "\u001b[32m\u001b[1m  Updating\u001b[22m\u001b[39m `~/.julia/environments/v1.0/Manifest.toml`\n",
      " \u001b[90m [f27b6e38]\u001b[39m\u001b[92m + Polynomials v0.5.1\u001b[39m\n"
     ]
    }
   ],
   "source": [
    "using Pkg\n",
    "Pkg.add(\"Polynomials\")"
   ]
  },
  {
   "cell_type": "code",
   "execution_count": 24,
   "metadata": {},
   "outputs": [
    {
     "data": {
      "text/html": [
       "&#45;1086.8658708490402 &#43; 2905.5721994684973&#8729;x &#45; 1082.7457238744728&#8729;x^2 &#43; 100.44658880845468&#8729;x^3"
      ],
      "text/plain": [
       "Poly(-1086.8658708490402 + 2905.5721994684973*x - 1082.7457238744728*x^2 + 100.44658880845468*x^3)"
      ]
     },
     "execution_count": 24,
     "metadata": {},
     "output_type": "execute_result"
    }
   ],
   "source": [
    "# aproksymacja sredniokwadratowa wielomianem - tutaj przyklad dla wielomianu 3 stopnia\n",
    "# pakiet Polynomials jest mozliwy do instalacji pod Juliabox\n",
    "# https://github.com/JuliaMath/Polynomials.jl\n",
    "using Polynomials\n",
    "xs = 0:10; ys = map(x->exp(x), xs)\n",
    "fit1=polyfit(xs, ys,3)\n"
   ]
  },
  {
   "cell_type": "code",
   "execution_count": 25,
   "metadata": {},
   "outputs": [
    {
     "data": {
      "text/plain": [
       "836.4071935534389"
      ]
     },
     "execution_count": 25,
     "metadata": {},
     "output_type": "execute_result"
    }
   ],
   "source": [
    "# obliczanie wartosci wielomianu \n",
    "fit1(1)"
   ]
  },
  {
   "cell_type": "code",
   "execution_count": 26,
   "metadata": {},
   "outputs": [
    {
     "data": {
      "text/plain": [
       "836.4071935534389"
      ]
     },
     "execution_count": 26,
     "metadata": {},
     "output_type": "execute_result"
    }
   ],
   "source": [
    "# obliczanie wartosci wielomianu (drugi sposób)\n",
    "polyval(fit1, 1)"
   ]
  },
  {
   "cell_type": "code",
   "execution_count": 27,
   "metadata": {},
   "outputs": [
    {
     "name": "stderr",
     "output_type": "stream",
     "text": [
      "┌ Info: Recompiling stale cache file /home/mateusz/.julia/compiled/v1.0/Plots/ld3vC.ji for Plots [91a5bcdd-55d7-5caf-9e0b-520d859cae80]\n",
      "└ @ Base loading.jl:1187\n"
     ]
    },
    {
     "data": {
      "image/svg+xml": [
       "<?xml version=\"1.0\" encoding=\"utf-8\"?>\n",
       "<svg xmlns=\"http://www.w3.org/2000/svg\" xmlns:xlink=\"http://www.w3.org/1999/xlink\" width=\"600\" height=\"400\" viewBox=\"0 0 2400 1600\">\n",
       "<defs>\n",
       "  <clipPath id=\"clip4200\">\n",
       "    <rect x=\"0\" y=\"0\" width=\"2000\" height=\"2000\"/>\n",
       "  </clipPath>\n",
       "</defs>\n",
       "<defs>\n",
       "  <clipPath id=\"clip4201\">\n",
       "    <rect x=\"0\" y=\"0\" width=\"2400\" height=\"1600\"/>\n",
       "  </clipPath>\n",
       "</defs>\n",
       "<polygon clip-path=\"url(#clip4201)\" points=\"\n",
       "0,1600 2400,1600 2400,0 0,0 \n",
       "  \" fill=\"#ffffff\" fill-opacity=\"1\"/>\n",
       "<defs>\n",
       "  <clipPath id=\"clip4202\">\n",
       "    <rect x=\"480\" y=\"0\" width=\"1681\" height=\"1600\"/>\n",
       "  </clipPath>\n",
       "</defs>\n",
       "<polygon clip-path=\"url(#clip4201)\" points=\"\n",
       "295.446,1503.47 2321.26,1503.47 2321.26,47.2441 295.446,47.2441 \n",
       "  \" fill=\"#ffffff\" fill-opacity=\"1\"/>\n",
       "<defs>\n",
       "  <clipPath id=\"clip4203\">\n",
       "    <rect x=\"295\" y=\"47\" width=\"2027\" height=\"1457\"/>\n",
       "  </clipPath>\n",
       "</defs>\n",
       "<polyline clip-path=\"url(#clip4203)\" style=\"stroke:#000000; stroke-width:2; stroke-opacity:0.1; fill:none\" points=\"\n",
       "  352.781,1503.47 352.781,47.2441 \n",
       "  \"/>\n",
       "<polyline clip-path=\"url(#clip4203)\" style=\"stroke:#000000; stroke-width:2; stroke-opacity:0.1; fill:none\" points=\"\n",
       "  830.567,1503.47 830.567,47.2441 \n",
       "  \"/>\n",
       "<polyline clip-path=\"url(#clip4203)\" style=\"stroke:#000000; stroke-width:2; stroke-opacity:0.1; fill:none\" points=\"\n",
       "  1308.35,1503.47 1308.35,47.2441 \n",
       "  \"/>\n",
       "<polyline clip-path=\"url(#clip4203)\" style=\"stroke:#000000; stroke-width:2; stroke-opacity:0.1; fill:none\" points=\"\n",
       "  1786.14,1503.47 1786.14,47.2441 \n",
       "  \"/>\n",
       "<polyline clip-path=\"url(#clip4203)\" style=\"stroke:#000000; stroke-width:2; stroke-opacity:0.1; fill:none\" points=\"\n",
       "  2263.93,1503.47 2263.93,47.2441 \n",
       "  \"/>\n",
       "<polyline clip-path=\"url(#clip4203)\" style=\"stroke:#000000; stroke-width:2; stroke-opacity:0.1; fill:none\" points=\"\n",
       "  295.446,1393.93 2321.26,1393.93 \n",
       "  \"/>\n",
       "<polyline clip-path=\"url(#clip4203)\" style=\"stroke:#000000; stroke-width:2; stroke-opacity:0.1; fill:none\" points=\"\n",
       "  295.446,1097.59 2321.26,1097.59 \n",
       "  \"/>\n",
       "<polyline clip-path=\"url(#clip4203)\" style=\"stroke:#000000; stroke-width:2; stroke-opacity:0.1; fill:none\" points=\"\n",
       "  295.446,801.246 2321.26,801.246 \n",
       "  \"/>\n",
       "<polyline clip-path=\"url(#clip4203)\" style=\"stroke:#000000; stroke-width:2; stroke-opacity:0.1; fill:none\" points=\"\n",
       "  295.446,504.905 2321.26,504.905 \n",
       "  \"/>\n",
       "<polyline clip-path=\"url(#clip4203)\" style=\"stroke:#000000; stroke-width:2; stroke-opacity:0.1; fill:none\" points=\"\n",
       "  295.446,208.563 2321.26,208.563 \n",
       "  \"/>\n",
       "<polyline clip-path=\"url(#clip4201)\" style=\"stroke:#000000; stroke-width:4; stroke-opacity:1; fill:none\" points=\"\n",
       "  295.446,1503.47 2321.26,1503.47 \n",
       "  \"/>\n",
       "<polyline clip-path=\"url(#clip4201)\" style=\"stroke:#000000; stroke-width:4; stroke-opacity:1; fill:none\" points=\"\n",
       "  295.446,1503.47 295.446,47.2441 \n",
       "  \"/>\n",
       "<polyline clip-path=\"url(#clip4201)\" style=\"stroke:#000000; stroke-width:4; stroke-opacity:1; fill:none\" points=\"\n",
       "  352.781,1503.47 352.781,1481.63 \n",
       "  \"/>\n",
       "<polyline clip-path=\"url(#clip4201)\" style=\"stroke:#000000; stroke-width:4; stroke-opacity:1; fill:none\" points=\"\n",
       "  830.567,1503.47 830.567,1481.63 \n",
       "  \"/>\n",
       "<polyline clip-path=\"url(#clip4201)\" style=\"stroke:#000000; stroke-width:4; stroke-opacity:1; fill:none\" points=\"\n",
       "  1308.35,1503.47 1308.35,1481.63 \n",
       "  \"/>\n",
       "<polyline clip-path=\"url(#clip4201)\" style=\"stroke:#000000; stroke-width:4; stroke-opacity:1; fill:none\" points=\"\n",
       "  1786.14,1503.47 1786.14,1481.63 \n",
       "  \"/>\n",
       "<polyline clip-path=\"url(#clip4201)\" style=\"stroke:#000000; stroke-width:4; stroke-opacity:1; fill:none\" points=\"\n",
       "  2263.93,1503.47 2263.93,1481.63 \n",
       "  \"/>\n",
       "<polyline clip-path=\"url(#clip4201)\" style=\"stroke:#000000; stroke-width:4; stroke-opacity:1; fill:none\" points=\"\n",
       "  295.446,1393.93 325.834,1393.93 \n",
       "  \"/>\n",
       "<polyline clip-path=\"url(#clip4201)\" style=\"stroke:#000000; stroke-width:4; stroke-opacity:1; fill:none\" points=\"\n",
       "  295.446,1097.59 325.834,1097.59 \n",
       "  \"/>\n",
       "<polyline clip-path=\"url(#clip4201)\" style=\"stroke:#000000; stroke-width:4; stroke-opacity:1; fill:none\" points=\"\n",
       "  295.446,801.246 325.834,801.246 \n",
       "  \"/>\n",
       "<polyline clip-path=\"url(#clip4201)\" style=\"stroke:#000000; stroke-width:4; stroke-opacity:1; fill:none\" points=\"\n",
       "  295.446,504.905 325.834,504.905 \n",
       "  \"/>\n",
       "<polyline clip-path=\"url(#clip4201)\" style=\"stroke:#000000; stroke-width:4; stroke-opacity:1; fill:none\" points=\"\n",
       "  295.446,208.563 325.834,208.563 \n",
       "  \"/>\n",
       "<g clip-path=\"url(#clip4201)\">\n",
       "<text style=\"fill:#000000; fill-opacity:1; font-family:Arial,Helvetica Neue,Helvetica,sans-serif; font-size:48px; text-anchor:middle;\" transform=\"rotate(0, 352.781, 1557.47)\" x=\"352.781\" y=\"1557.47\">0.0</text>\n",
       "</g>\n",
       "<g clip-path=\"url(#clip4201)\">\n",
       "<text style=\"fill:#000000; fill-opacity:1; font-family:Arial,Helvetica Neue,Helvetica,sans-serif; font-size:48px; text-anchor:middle;\" transform=\"rotate(0, 830.567, 1557.47)\" x=\"830.567\" y=\"1557.47\">2.5</text>\n",
       "</g>\n",
       "<g clip-path=\"url(#clip4201)\">\n",
       "<text style=\"fill:#000000; fill-opacity:1; font-family:Arial,Helvetica Neue,Helvetica,sans-serif; font-size:48px; text-anchor:middle;\" transform=\"rotate(0, 1308.35, 1557.47)\" x=\"1308.35\" y=\"1557.47\">5.0</text>\n",
       "</g>\n",
       "<g clip-path=\"url(#clip4201)\">\n",
       "<text style=\"fill:#000000; fill-opacity:1; font-family:Arial,Helvetica Neue,Helvetica,sans-serif; font-size:48px; text-anchor:middle;\" transform=\"rotate(0, 1786.14, 1557.47)\" x=\"1786.14\" y=\"1557.47\">7.5</text>\n",
       "</g>\n",
       "<g clip-path=\"url(#clip4201)\">\n",
       "<text style=\"fill:#000000; fill-opacity:1; font-family:Arial,Helvetica Neue,Helvetica,sans-serif; font-size:48px; text-anchor:middle;\" transform=\"rotate(0, 2263.93, 1557.47)\" x=\"2263.93\" y=\"1557.47\">10.0</text>\n",
       "</g>\n",
       "<g clip-path=\"url(#clip4201)\">\n",
       "<text style=\"fill:#000000; fill-opacity:1; font-family:Arial,Helvetica Neue,Helvetica,sans-serif; font-size:48px; text-anchor:end;\" transform=\"rotate(0, 271.446, 1411.43)\" x=\"271.446\" y=\"1411.43\">0</text>\n",
       "</g>\n",
       "<g clip-path=\"url(#clip4201)\">\n",
       "<text style=\"fill:#000000; fill-opacity:1; font-family:Arial,Helvetica Neue,Helvetica,sans-serif; font-size:48px; text-anchor:start;\" transform=\"rotate(0, 101.161, 1121.32)\" x=\"101.161\" y=\"1121.32\">5.0×10</text>\n",
       "</g>\n",
       "<g clip-path=\"url(#clip4201)\">\n",
       "<text style=\"fill:#000000; fill-opacity:1; font-family:Arial,Helvetica Neue,Helvetica,sans-serif; font-size:38px; text-anchor:start;\" transform=\"rotate(0, 249.702, 1093.9)\" x=\"249.702\" y=\"1093.9\">3</text>\n",
       "</g>\n",
       "<g clip-path=\"url(#clip4201)\">\n",
       "<text style=\"fill:#000000; fill-opacity:1; font-family:Arial,Helvetica Neue,Helvetica,sans-serif; font-size:48px; text-anchor:start;\" transform=\"rotate(0, 101.161, 824.974)\" x=\"101.161\" y=\"824.974\">1.0×10</text>\n",
       "</g>\n",
       "<g clip-path=\"url(#clip4201)\">\n",
       "<text style=\"fill:#000000; fill-opacity:1; font-family:Arial,Helvetica Neue,Helvetica,sans-serif; font-size:38px; text-anchor:start;\" transform=\"rotate(0, 249.702, 797.563)\" x=\"249.702\" y=\"797.563\">4</text>\n",
       "</g>\n",
       "<g clip-path=\"url(#clip4201)\">\n",
       "<text style=\"fill:#000000; fill-opacity:1; font-family:Arial,Helvetica Neue,Helvetica,sans-serif; font-size:48px; text-anchor:start;\" transform=\"rotate(0, 101.161, 528.632)\" x=\"101.161\" y=\"528.632\">1.5×10</text>\n",
       "</g>\n",
       "<g clip-path=\"url(#clip4201)\">\n",
       "<text style=\"fill:#000000; fill-opacity:1; font-family:Arial,Helvetica Neue,Helvetica,sans-serif; font-size:38px; text-anchor:start;\" transform=\"rotate(0, 249.702, 501.222)\" x=\"249.702\" y=\"501.222\">4</text>\n",
       "</g>\n",
       "<g clip-path=\"url(#clip4201)\">\n",
       "<text style=\"fill:#000000; fill-opacity:1; font-family:Arial,Helvetica Neue,Helvetica,sans-serif; font-size:48px; text-anchor:start;\" transform=\"rotate(0, 101.161, 232.291)\" x=\"101.161\" y=\"232.291\">2.0×10</text>\n",
       "</g>\n",
       "<g clip-path=\"url(#clip4201)\">\n",
       "<text style=\"fill:#000000; fill-opacity:1; font-family:Arial,Helvetica Neue,Helvetica,sans-serif; font-size:38px; text-anchor:start;\" transform=\"rotate(0, 249.702, 204.881)\" x=\"249.702\" y=\"204.881\">4</text>\n",
       "</g>\n",
       "<polyline clip-path=\"url(#clip4203)\" style=\"stroke:#009af9; stroke-width:4; stroke-opacity:1; fill:none\" points=\"\n",
       "  352.781,1458.35 371.892,1441.76 391.004,1426.42 410.115,1412.3 429.227,1399.35 448.338,1387.54 467.449,1376.84 486.561,1367.2 505.672,1358.6 524.784,1351 \n",
       "  543.895,1344.36 563.007,1338.64 582.118,1333.82 601.23,1329.85 620.341,1326.7 639.452,1324.33 658.564,1322.71 677.675,1321.8 696.787,1321.57 715.898,1321.98 \n",
       "  735.01,1322.99 754.121,1324.58 773.233,1326.69 792.344,1329.31 811.455,1332.38 830.567,1335.88 849.678,1339.78 868.79,1344.02 887.901,1348.59 907.013,1353.44 \n",
       "  926.124,1358.53 945.236,1363.84 964.347,1369.33 983.459,1374.95 1002.57,1380.68 1021.68,1386.48 1040.79,1392.31 1059.9,1398.14 1079.02,1403.94 1098.13,1409.65 \n",
       "  1117.24,1415.26 1136.35,1420.72 1155.46,1426.01 1174.57,1431.07 1193.68,1435.88 1212.8,1440.41 1231.91,1444.61 1251.02,1448.45 1270.13,1451.89 1289.24,1454.91 \n",
       "  1308.35,1457.45 1327.46,1459.5 1346.58,1461.01 1365.69,1461.94 1384.8,1462.26 1403.91,1461.94 1423.02,1460.93 1442.13,1459.21 1461.24,1456.74 1480.36,1453.48 \n",
       "  1499.47,1449.39 1518.58,1444.45 1537.69,1438.61 1556.8,1431.84 1575.91,1424.1 1595.02,1415.36 1614.14,1405.58 1633.25,1394.72 1652.36,1382.76 1671.47,1369.65 \n",
       "  1690.58,1355.36 1709.69,1339.85 1728.8,1323.09 1747.92,1305.04 1767.03,1285.67 1786.14,1264.94 1805.25,1242.81 1824.36,1219.25 1843.47,1194.23 1862.59,1167.7 \n",
       "  1881.7,1139.63 1900.81,1109.99 1919.92,1078.74 1939.03,1045.84 1958.14,1011.26 1977.25,974.969 1996.37,936.921 2015.48,897.085 2034.59,855.425 2053.7,811.904 \n",
       "  2072.81,766.489 2091.92,719.142 2111.03,669.827 2130.15,618.511 2149.26,565.155 2168.37,509.725 2187.48,452.186 2206.59,392.501 2225.7,330.634 2244.81,266.551 \n",
       "  2263.93,200.214 \n",
       "  \"/>\n",
       "<circle clip-path=\"url(#clip4203)\" style=\"fill:#000000; stroke:none; fill-opacity:1\" cx=\"352.781\" cy=\"1393.87\" r=\"18\"/>\n",
       "<circle clip-path=\"url(#clip4203)\" style=\"fill:#e26f46; stroke:none; fill-opacity:1\" cx=\"352.781\" cy=\"1393.87\" r=\"14\"/>\n",
       "<circle clip-path=\"url(#clip4203)\" style=\"fill:#000000; stroke:none; fill-opacity:1\" cx=\"543.895\" cy=\"1393.77\" r=\"18\"/>\n",
       "<circle clip-path=\"url(#clip4203)\" style=\"fill:#e26f46; stroke:none; fill-opacity:1\" cx=\"543.895\" cy=\"1393.77\" r=\"14\"/>\n",
       "<circle clip-path=\"url(#clip4203)\" style=\"fill:#000000; stroke:none; fill-opacity:1\" cx=\"735.01\" cy=\"1393.49\" r=\"18\"/>\n",
       "<circle clip-path=\"url(#clip4203)\" style=\"fill:#e26f46; stroke:none; fill-opacity:1\" cx=\"735.01\" cy=\"1393.49\" r=\"14\"/>\n",
       "<circle clip-path=\"url(#clip4203)\" style=\"fill:#000000; stroke:none; fill-opacity:1\" cx=\"926.124\" cy=\"1392.74\" r=\"18\"/>\n",
       "<circle clip-path=\"url(#clip4203)\" style=\"fill:#e26f46; stroke:none; fill-opacity:1\" cx=\"926.124\" cy=\"1392.74\" r=\"14\"/>\n",
       "<circle clip-path=\"url(#clip4203)\" style=\"fill:#000000; stroke:none; fill-opacity:1\" cx=\"1117.24\" cy=\"1390.69\" r=\"18\"/>\n",
       "<circle clip-path=\"url(#clip4203)\" style=\"fill:#e26f46; stroke:none; fill-opacity:1\" cx=\"1117.24\" cy=\"1390.69\" r=\"14\"/>\n",
       "<circle clip-path=\"url(#clip4203)\" style=\"fill:#000000; stroke:none; fill-opacity:1\" cx=\"1308.35\" cy=\"1385.13\" r=\"18\"/>\n",
       "<circle clip-path=\"url(#clip4203)\" style=\"fill:#e26f46; stroke:none; fill-opacity:1\" cx=\"1308.35\" cy=\"1385.13\" r=\"14\"/>\n",
       "<circle clip-path=\"url(#clip4203)\" style=\"fill:#000000; stroke:none; fill-opacity:1\" cx=\"1499.47\" cy=\"1370.02\" r=\"18\"/>\n",
       "<circle clip-path=\"url(#clip4203)\" style=\"fill:#e26f46; stroke:none; fill-opacity:1\" cx=\"1499.47\" cy=\"1370.02\" r=\"14\"/>\n",
       "<circle clip-path=\"url(#clip4203)\" style=\"fill:#000000; stroke:none; fill-opacity:1\" cx=\"1690.58\" cy=\"1328.93\" r=\"18\"/>\n",
       "<circle clip-path=\"url(#clip4203)\" style=\"fill:#e26f46; stroke:none; fill-opacity:1\" cx=\"1690.58\" cy=\"1328.93\" r=\"14\"/>\n",
       "<circle clip-path=\"url(#clip4203)\" style=\"fill:#000000; stroke:none; fill-opacity:1\" cx=\"1881.7\" cy=\"1217.25\" r=\"18\"/>\n",
       "<circle clip-path=\"url(#clip4203)\" style=\"fill:#e26f46; stroke:none; fill-opacity:1\" cx=\"1881.7\" cy=\"1217.25\" r=\"14\"/>\n",
       "<circle clip-path=\"url(#clip4203)\" style=\"fill:#000000; stroke:none; fill-opacity:1\" cx=\"2072.81\" cy=\"913.673\" r=\"18\"/>\n",
       "<circle clip-path=\"url(#clip4203)\" style=\"fill:#e26f46; stroke:none; fill-opacity:1\" cx=\"2072.81\" cy=\"913.673\" r=\"14\"/>\n",
       "<circle clip-path=\"url(#clip4203)\" style=\"fill:#000000; stroke:none; fill-opacity:1\" cx=\"2263.93\" cy=\"88.4582\" r=\"18\"/>\n",
       "<circle clip-path=\"url(#clip4203)\" style=\"fill:#e26f46; stroke:none; fill-opacity:1\" cx=\"2263.93\" cy=\"88.4582\" r=\"14\"/>\n",
       "<polygon clip-path=\"url(#clip4201)\" points=\"\n",
       "1958.43,312.204 2249.26,312.204 2249.26,130.764 1958.43,130.764 \n",
       "  \" fill=\"#ffffff\" fill-opacity=\"1\"/>\n",
       "<polyline clip-path=\"url(#clip4201)\" style=\"stroke:#000000; stroke-width:4; stroke-opacity:1; fill:none\" points=\"\n",
       "  1958.43,312.204 2249.26,312.204 2249.26,130.764 1958.43,130.764 1958.43,312.204 \n",
       "  \"/>\n",
       "<polyline clip-path=\"url(#clip4201)\" style=\"stroke:#009af9; stroke-width:4; stroke-opacity:1; fill:none\" points=\"\n",
       "  1982.43,191.244 2126.43,191.244 \n",
       "  \"/>\n",
       "<g clip-path=\"url(#clip4201)\">\n",
       "<text style=\"fill:#000000; fill-opacity:1; font-family:Arial,Helvetica Neue,Helvetica,sans-serif; font-size:48px; text-anchor:start;\" transform=\"rotate(0, 2150.43, 208.744)\" x=\"2150.43\" y=\"208.744\">y1</text>\n",
       "</g>\n",
       "<circle clip-path=\"url(#clip4201)\" style=\"fill:#000000; stroke:none; fill-opacity:1\" cx=\"2066.43\" cy=\"251.724\" r=\"25\"/>\n",
       "<circle clip-path=\"url(#clip4201)\" style=\"fill:#e26f46; stroke:none; fill-opacity:1\" cx=\"2066.43\" cy=\"251.724\" r=\"21\"/>\n",
       "<g clip-path=\"url(#clip4201)\">\n",
       "<text style=\"fill:#000000; fill-opacity:1; font-family:Arial,Helvetica Neue,Helvetica,sans-serif; font-size:48px; text-anchor:start;\" transform=\"rotate(0, 2150.43, 269.224)\" x=\"2150.43\" y=\"269.224\">y2</text>\n",
       "</g>\n",
       "</svg>\n"
      ]
     },
     "execution_count": 27,
     "metadata": {},
     "output_type": "execute_result"
    }
   ],
   "source": [
    "using Plots\n",
    "\n",
    "# geste punkty do wyliczenia wartosci wielomianu aproksymujacego:\n",
    "xd=0:0.1:10\n",
    "# wykres wartosci wielomianu dla gestych punktow:\n",
    "plot(xd,polyval(fit1, xd))\n",
    "\n",
    "# ! -dodanie do tego samego wykresu punktów wg ktorych aproksymowalismy\n",
    "scatter!(xs,ys)\n"
   ]
  },
  {
   "cell_type": "markdown",
   "metadata": {
    "collapsed": true
   },
   "source": [
    "### Zadania\n",
    " \n",
    "1.Uruchomić \n",
    "   - naive_multiplication(A,B), \n",
    "   - better_multiplication(A,B) \n",
    "   - mnożenie BLAS w Julii (A*B) \n",
    "\n",
    "dla coraz większych macierzy i zmierzyć czasy. Narysować wykres zależyności czasu od rozmiaru macierzy wraz z słupkami błędów, tak jak na poprzednim laboratorium. Wszystkie trzy metody powinny być na jednym wykresie.\n",
    " \n",
    "2.Napisać w języku C:\n",
    "    - naiwną metodę mnożenia macierzy (wersja 1) \n",
    "    - ulepszoną za pomocą zamiany pętli metodę mnożenia macierzy (wersja 2), pamiętając, że w C macierz przechowywana jest wierszami (row major order tzn A11,A12, ..., A1m, A21, A22,...,A2m, ..Anm), inaczej niż w Julii ! \n",
    "    - skorzystać z  możliwości BLAS dostępnego w GSL(wersja 3). \n",
    "    \n",
    "Należy porównywać działanie tych trzech algorytmow bez włączonej opcji optymalizacji kompilatora. Przedstawić wyniki na jednym wykresie tak jak w p.1.(osobno niż p.1). (Dla chętnych) sprawdzić, co się dzieje, jak włączymy optymalizację kompilatora i dodać do wykresu.\n",
    "\n",
    "3.Użyć funkcji polyfit  z pakietu  Polynomials   do znalezienia odpowiednich wielomianow, ktore najlepiej pasują do zależności czasowych kazdego z algorytmow. Stopień wielomianu powinien zgadzać się z teoretyczną złożonoscią. Dodać wykresy uzyskanych wielomianow do wczesniejszych  wykresów.\n",
    "\n",
    "4.Przedstawić wyniki dla języka Julia i C na wspólnym wykresie. Jaka metoda jest najszybsza? \n"
   ]
  },
  {
   "cell_type": "code",
   "execution_count": 11,
   "metadata": {},
   "outputs": [],
   "source": [
    "using DataFrames"
   ]
  },
  {
   "cell_type": "code",
   "execution_count": 12,
   "metadata": {},
   "outputs": [
    {
     "data": {
      "text/plain": [
       "(1500, 2000, 2500, 3000, 3500)"
      ]
     },
     "execution_count": 12,
     "metadata": {},
     "output_type": "execute_result"
    }
   ],
   "source": [
    "sizes_small = (500, 750, 1000)\n",
    "sizes_big = (1500, 2000, 2500, 3000, 3500)"
   ]
  },
  {
   "cell_type": "code",
   "execution_count": 14,
   "metadata": {},
   "outputs": [
    {
     "data": {
      "text/html": [
       "<table class=\"data-frame\"><thead><tr><th></th><th>func</th><th>size</th><th>time</th></tr><tr><th></th><th>String</th><th>Int32</th><th>Float32</th></tr></thead><tbody></tbody></table>"
      ],
      "text/plain": [
       "0×3 DataFrame\n"
      ]
     },
     "execution_count": 14,
     "metadata": {},
     "output_type": "execute_result"
    }
   ],
   "source": [
    "df = DataFrame(func = String[], size = Int32[], time = Float32[])"
   ]
  },
  {
   "cell_type": "code",
   "execution_count": 15,
   "metadata": {},
   "outputs": [
    {
     "name": "stdout",
     "output_type": "stream",
     "text": [
      "500\n",
      "1\n",
      "2\n",
      "3\n",
      "4\n",
      "5\n",
      "6\n",
      "7\n",
      "8\n",
      "9\n",
      "10\n",
      "750\n",
      "1\n",
      "2\n",
      "3\n",
      "4\n",
      "5\n",
      "6\n",
      "7\n",
      "8\n",
      "9\n",
      "10\n",
      "1000\n",
      "1\n",
      "2\n",
      "3\n",
      "4\n",
      "5\n",
      "6\n",
      "7\n",
      "8\n",
      "9\n",
      "10\n",
      "1500\n",
      "1\n",
      "2\n",
      "3\n",
      "4\n",
      "5\n",
      "2000\n",
      "1\n",
      "2\n",
      "3\n",
      "4\n",
      "5\n",
      "2500\n",
      "1\n",
      "2\n",
      "3\n",
      "4\n",
      "5\n",
      "3000\n",
      "1\n",
      "2\n",
      "3\n",
      "4\n",
      "5\n",
      "3500\n",
      "1\n",
      "2\n",
      "3\n",
      "4\n",
      "5\n"
     ]
    }
   ],
   "source": [
    "for s in sizes_small\n",
    "    \n",
    "    println(s)\n",
    "    \n",
    "    for i in 1:10\n",
    "        \n",
    "        println(i)\n",
    "        push!(df, [\"julia naive\" s (@elapsed naive_multiplication(rand(s, s), rand(s, s)))])\n",
    "        push!(df, [\"julia better\" s (@elapsed better_multiplication(rand(s, s), rand(s, s)))])\n",
    "        push!(df, [\"julia blas\" s (@elapsed rand(s, s) * rand(s, s))])\n",
    "        \n",
    "    end\n",
    "end\n",
    "\n",
    "for s in sizes_big\n",
    "    \n",
    "    println(s)\n",
    "    \n",
    "    for i in 1:5\n",
    "        \n",
    "        println(i)\n",
    "        push!(df, [\"julia naive\" s (@elapsed naive_multiplication(rand(s, s), rand(s, s)))])\n",
    "        push!(df, [\"julia better\" s (@elapsed better_multiplication(rand(s, s), rand(s, s)))])\n",
    "        push!(df, [\"julia blas\" s (@elapsed rand(s, s) * rand(s, s))])\n",
    "    end\n",
    "end"
   ]
  },
  {
   "cell_type": "code",
   "execution_count": 16,
   "metadata": {},
   "outputs": [
    {
     "data": {
      "text/html": [
       "<table class=\"data-frame\"><thead><tr><th></th><th>func</th><th>size</th><th>time</th></tr><tr><th></th><th>String</th><th>Int32</th><th>Float32</th></tr></thead><tbody><tr><th>1</th><td>julia naive</td><td>500</td><td>0.419149</td></tr><tr><th>2</th><td>julia better</td><td>500</td><td>0.213123</td></tr><tr><th>3</th><td>julia blas</td><td>500</td><td>0.380658</td></tr><tr><th>4</th><td>julia naive</td><td>500</td><td>0.456218</td></tr><tr><th>5</th><td>julia better</td><td>500</td><td>0.217179</td></tr><tr><th>6</th><td>julia blas</td><td>500</td><td>0.00729024</td></tr><tr><th>7</th><td>julia naive</td><td>500</td><td>0.439931</td></tr><tr><th>8</th><td>julia better</td><td>500</td><td>0.209094</td></tr><tr><th>9</th><td>julia blas</td><td>500</td><td>0.00575121</td></tr><tr><th>10</th><td>julia naive</td><td>500</td><td>0.445551</td></tr><tr><th>11</th><td>julia better</td><td>500</td><td>0.209798</td></tr><tr><th>12</th><td>julia blas</td><td>500</td><td>0.00641538</td></tr><tr><th>13</th><td>julia naive</td><td>500</td><td>0.439077</td></tr><tr><th>14</th><td>julia better</td><td>500</td><td>0.214314</td></tr><tr><th>15</th><td>julia blas</td><td>500</td><td>0.00593627</td></tr><tr><th>16</th><td>julia naive</td><td>500</td><td>0.437443</td></tr><tr><th>17</th><td>julia better</td><td>500</td><td>0.209648</td></tr><tr><th>18</th><td>julia blas</td><td>500</td><td>0.00570468</td></tr><tr><th>19</th><td>julia naive</td><td>500</td><td>0.440127</td></tr><tr><th>20</th><td>julia better</td><td>500</td><td>0.209013</td></tr><tr><th>21</th><td>julia blas</td><td>500</td><td>0.00571697</td></tr><tr><th>22</th><td>julia naive</td><td>500</td><td>0.436408</td></tr><tr><th>23</th><td>julia better</td><td>500</td><td>0.211677</td></tr><tr><th>24</th><td>julia blas</td><td>500</td><td>0.00643307</td></tr><tr><th>25</th><td>julia naive</td><td>500</td><td>0.450595</td></tr><tr><th>26</th><td>julia better</td><td>500</td><td>0.209548</td></tr><tr><th>27</th><td>julia blas</td><td>500</td><td>0.0057457</td></tr><tr><th>28</th><td>julia naive</td><td>500</td><td>0.442859</td></tr><tr><th>29</th><td>julia better</td><td>500</td><td>0.210904</td></tr><tr><th>30</th><td>julia blas</td><td>500</td><td>0.00577897</td></tr><tr><th>&vellip;</th><td>&vellip;</td><td>&vellip;</td><td>&vellip;</td></tr></tbody></table>"
      ],
      "text/plain": [
       "165×3 DataFrame\n",
       "│ Row │ func         │ size  │ time       │\n",
       "│     │ \u001b[90mString\u001b[39m       │ \u001b[90mInt32\u001b[39m │ \u001b[90mFloat32\u001b[39m    │\n",
       "├─────┼──────────────┼───────┼────────────┤\n",
       "│ 1   │ julia naive  │ 500   │ 0.419149   │\n",
       "│ 2   │ julia better │ 500   │ 0.213123   │\n",
       "│ 3   │ julia blas   │ 500   │ 0.380658   │\n",
       "│ 4   │ julia naive  │ 500   │ 0.456218   │\n",
       "│ 5   │ julia better │ 500   │ 0.217179   │\n",
       "│ 6   │ julia blas   │ 500   │ 0.00729024 │\n",
       "│ 7   │ julia naive  │ 500   │ 0.439931   │\n",
       "│ 8   │ julia better │ 500   │ 0.209094   │\n",
       "│ 9   │ julia blas   │ 500   │ 0.00575121 │\n",
       "│ 10  │ julia naive  │ 500   │ 0.445551   │\n",
       "⋮\n",
       "│ 155 │ julia better │ 3500  │ 74.3495    │\n",
       "│ 156 │ julia blas   │ 3500  │ 1.93519    │\n",
       "│ 157 │ julia naive  │ 3500  │ 154.767    │\n",
       "│ 158 │ julia better │ 3500  │ 73.6396    │\n",
       "│ 159 │ julia blas   │ 3500  │ 1.93461    │\n",
       "│ 160 │ julia naive  │ 3500  │ 152.838    │\n",
       "│ 161 │ julia better │ 3500  │ 73.4798    │\n",
       "│ 162 │ julia blas   │ 3500  │ 1.93568    │\n",
       "│ 163 │ julia naive  │ 3500  │ 152.819    │\n",
       "│ 164 │ julia better │ 3500  │ 73.884     │\n",
       "│ 165 │ julia blas   │ 3500  │ 1.93528    │"
      ]
     },
     "execution_count": 16,
     "metadata": {},
     "output_type": "execute_result"
    }
   ],
   "source": [
    "df"
   ]
  },
  {
   "cell_type": "code",
   "execution_count": 18,
   "metadata": {},
   "outputs": [],
   "source": [
    "using CSV"
   ]
  },
  {
   "cell_type": "code",
   "execution_count": 19,
   "metadata": {},
   "outputs": [
    {
     "data": {
      "text/plain": [
       "\"julia-times2.csv\""
      ]
     },
     "execution_count": 19,
     "metadata": {},
     "output_type": "execute_result"
    }
   ],
   "source": [
    "CSV.write(\"julia-times2.csv\", df)"
   ]
  }
 ],
 "metadata": {
  "kernelspec": {
   "display_name": "Julia 1.0.1",
   "language": "julia",
   "name": "julia-1.0"
  },
  "language_info": {
   "file_extension": ".jl",
   "mimetype": "application/julia",
   "name": "julia",
   "version": "1.0.1"
  }
 },
 "nbformat": 4,
 "nbformat_minor": 2
}
